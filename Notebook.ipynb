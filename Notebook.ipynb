{
 "cells": [
  {
   "cell_type": "markdown",
   "metadata": {},
   "source": [
    "# Resume Analysis & Candidate Ranking System\n",
    "Welcome to the Resume Analysis & Candidate Ranking System Major Project of Batch-4(CSM)! In today's competitive job market, organizations receive a vast number of resumes for each job opening, making the candidate selection process time-consuming and challenging. To address this issue, this system offers an automated solution for analyzing resumes and ranking candidates based on their suitability for a given job description.\n",
    "\n",
    "## Table of Contents\n",
    "1. [Introduction](#introduction)\n",
    "2. [System Architecture](#system-architecture)\n",
    "3. [Zip File Extraction](#zip-file-extraction)\n",
    "4. [Information Extraction](#information-extraction)\n",
    "5. [Analysis of Job Description](#analysis-of-job-description)\n",
    "6. [Analysis of Candidate Resume](#analysis-of-candidate-resume)\n",
    "7. [Applying LDA Model](#applying-lda-model)\n",
    "8. [Calculating Similarity](#calculating-similarity)\n",
    "9. [Ranking Candidates](#ranking-candidates)\n",
    "10. [Clearing Extracted Files](#clearing-extracted-files)"
   ]
  },
  {
   "cell_type": "markdown",
   "metadata": {},
   "source": [
    "<a id=\"introduction\"></a>\n",
    "## 1. Introduction\n",
    "\n",
    "Imagine a scenario where a public organization, such as a government agency or a non-profit organization, is hiring for a critical role that requires specific skills and qualifications. With limited resources and a high volume of applicants, manual screening of resumes becomes impractical and inefficient. In such cases, an automated resume analysis and candidate ranking system can significantly streamline the hiring process, allowing the organization to identify top candidates quickly and efficiently.\n",
    "\n",
    "This system can be particularly beneficial for public organizations with limited HR resources, enabling them to make data-driven decisions in their hiring process while ensuring fairness and transparency. By leveraging natural language processing techniques and machine learning algorithms, the system evaluates resumes objectively and ranks candidates based on their alignment with the job requirements.\n",
    "\n",
    "Let's explore the components of this system and see how it can revolutionize the candidate selection process for public organizations.\n"
   ]
  },
  {
   "cell_type": "markdown",
   "metadata": {},
   "source": [
    "<a id=\"system-architecture\"></a>\n",
    "## 2. System Architecture\n",
    "The system architecture consists of several components that work together to analyze resumes and rank candidates:\n",
    "- **Zip File Extraction:** Resumes are extracted from a compressed zip file for further processing.\n",
    "- **Information Extraction:** Data is loaded from both the job description and resumes, and textual content is extracted for analysis.\n",
    "- **Analysis of Job Description:** The job description is analyzed to identify key requirements and skills using TF-IDF.\n",
    "- **Analysis of Candidate Resume:** Each candidate's resume is analyzed to extract relevant features and qualifications using TF-IDF.\n",
    "- **Applying LDA Model:** The LDA (Latent Dirichlet Allocation) model is applied to uncover underlying topics within the job description.\n",
    "- **Calculating Similarity:** Similarity between the job description and each resume is calculated using cosine similarity and LDA topic distributions.\n",
    "- **Ranking Candidates:** Candidates are ranked based on their similarity to the job description.\n",
    "- **Clearing Extracted Files:** Extracted files are cleared to maintain a tidy workspace.\n",
    "\n",
    "Let's delve into each component in detail.\n"
   ]
  },
  {
   "cell_type": "markdown",
   "metadata": {},
   "source": [
    "<a id=\"zip-file-extraction\"></a>\n",
    "## 3. Zip file extraction\n",
    "\n",
    "In this initial step, resumes are extracted from a compressed zip file for further processing. This allows us to access and analyze multiple resumes conveniently."
   ]
  },
  {
   "cell_type": "code",
   "execution_count": 3,
   "metadata": {},
   "outputs": [],
   "source": [
    "import os\n",
    "\n",
    "# Set the working directory to the notebook's folder\n",
    "os.chdir(r'D:\\project\\Major Project\\Final Documents\\Code Explanation')"
   ]
  },
  {
   "cell_type": "code",
   "execution_count": 4,
   "metadata": {},
   "outputs": [
    {
     "name": "stdout",
     "output_type": "stream",
     "text": [
      "['sample.pdf', 'sample2.pdf', 'sample3.pdf']\n"
     ]
    }
   ],
   "source": [
    "import zipfile,os\n",
    "\n",
    "zip_path = 'Data/Code.zip'\n",
    "with zipfile.ZipFile(zip_path, 'r') as zip_ref:\n",
    "        zip_ref.extractall('Data/Extracted/')\n",
    "print(os.listdir(\"Data/Extracted/\"))"
   ]
  },
  {
   "cell_type": "markdown",
   "metadata": {},
   "source": [
    "<a id=\"information-extraction\"></a>\n",
    "## 4. Information Extraction\n",
    "This section focuses on loading data from both the job description and resumes. Resumes are parsed to extract textual content, which is then stored for subsequent analysis."
   ]
  },
  {
   "cell_type": "code",
   "execution_count": 1,
   "metadata": {},
   "outputs": [
    {
     "name": "stdout",
     "output_type": "stream",
     "text": [
      "Collecting PyMuPDF\n",
      "  Downloading pymupdf-1.25.5-cp39-abi3-win_amd64.whl.metadata (3.4 kB)\n",
      "Downloading pymupdf-1.25.5-cp39-abi3-win_amd64.whl (16.6 MB)\n",
      "   ---------------------------------------- 0.0/16.6 MB ? eta -:--:--\n",
      "   ---------------------------------------- 0.0/16.6 MB ? eta -:--:--\n",
      "   ---------------------------------------- 0.0/16.6 MB ? eta -:--:--\n",
      "   ---------------------------------------- 0.0/16.6 MB ? eta -:--:--\n",
      "    --------------------------------------- 0.3/16.6 MB ? eta -:--:--\n",
      "   - -------------------------------------- 0.5/16.6 MB 728.2 kB/s eta 0:00:23\n",
      "   - -------------------------------------- 0.5/16.6 MB 728.2 kB/s eta 0:00:23\n",
      "   - -------------------------------------- 0.8/16.6 MB 798.0 kB/s eta 0:00:20\n",
      "   -- ------------------------------------- 1.0/16.6 MB 811.6 kB/s eta 0:00:20\n",
      "   -- ------------------------------------- 1.0/16.6 MB 811.6 kB/s eta 0:00:20\n",
      "   --- ------------------------------------ 1.3/16.6 MB 745.3 kB/s eta 0:00:21\n",
      "   --- ------------------------------------ 1.6/16.6 MB 776.5 kB/s eta 0:00:20\n",
      "   --- ------------------------------------ 1.6/16.6 MB 776.5 kB/s eta 0:00:20\n",
      "   ---- ----------------------------------- 1.8/16.6 MB 786.4 kB/s eta 0:00:19\n",
      "   ----- ---------------------------------- 2.1/16.6 MB 804.1 kB/s eta 0:00:19\n",
      "   ----- ---------------------------------- 2.4/16.6 MB 828.3 kB/s eta 0:00:18\n",
      "   ------ --------------------------------- 2.6/16.6 MB 857.9 kB/s eta 0:00:17\n",
      "   ------ --------------------------------- 2.6/16.6 MB 857.9 kB/s eta 0:00:17\n",
      "   ------ --------------------------------- 2.9/16.6 MB 860.3 kB/s eta 0:00:16\n",
      "   ------- -------------------------------- 3.1/16.6 MB 870.4 kB/s eta 0:00:16\n",
      "   -------- ------------------------------- 3.4/16.6 MB 875.3 kB/s eta 0:00:16\n",
      "   -------- ------------------------------- 3.4/16.6 MB 875.3 kB/s eta 0:00:16\n",
      "   -------- ------------------------------- 3.7/16.6 MB 875.8 kB/s eta 0:00:15\n",
      "   --------- ------------------------------ 3.9/16.6 MB 866.6 kB/s eta 0:00:15\n",
      "   --------- ------------------------------ 3.9/16.6 MB 866.6 kB/s eta 0:00:15\n",
      "   ---------- ----------------------------- 4.2/16.6 MB 864.8 kB/s eta 0:00:15\n",
      "   ---------- ----------------------------- 4.5/16.6 MB 874.4 kB/s eta 0:00:14\n",
      "   ----------- ---------------------------- 4.7/16.6 MB 880.2 kB/s eta 0:00:14\n",
      "   ----------- ---------------------------- 4.7/16.6 MB 880.2 kB/s eta 0:00:14\n",
      "   ----------- ---------------------------- 4.7/16.6 MB 880.2 kB/s eta 0:00:14\n",
      "   ------------ --------------------------- 5.0/16.6 MB 843.5 kB/s eta 0:00:14\n",
      "   ------------ --------------------------- 5.0/16.6 MB 843.5 kB/s eta 0:00:14\n",
      "   ------------ --------------------------- 5.2/16.6 MB 804.9 kB/s eta 0:00:15\n",
      "   ------------ --------------------------- 5.2/16.6 MB 804.9 kB/s eta 0:00:15\n",
      "   ------------ --------------------------- 5.2/16.6 MB 804.9 kB/s eta 0:00:15\n",
      "   ------------ --------------------------- 5.2/16.6 MB 804.9 kB/s eta 0:00:15\n",
      "   ------------- -------------------------- 5.5/16.6 MB 754.0 kB/s eta 0:00:15\n",
      "   ------------- -------------------------- 5.5/16.6 MB 754.0 kB/s eta 0:00:15\n",
      "   ------------- -------------------------- 5.5/16.6 MB 754.0 kB/s eta 0:00:15\n",
      "   ------------- -------------------------- 5.8/16.6 MB 724.9 kB/s eta 0:00:15\n",
      "   ------------- -------------------------- 5.8/16.6 MB 724.9 kB/s eta 0:00:15\n",
      "   ------------- -------------------------- 5.8/16.6 MB 724.9 kB/s eta 0:00:15\n",
      "   -------------- ------------------------- 6.0/16.6 MB 703.1 kB/s eta 0:00:16\n",
      "   -------------- ------------------------- 6.0/16.6 MB 703.1 kB/s eta 0:00:16\n",
      "   --------------- ------------------------ 6.3/16.6 MB 697.8 kB/s eta 0:00:15\n",
      "   --------------- ------------------------ 6.3/16.6 MB 697.8 kB/s eta 0:00:15\n",
      "   --------------- ------------------------ 6.3/16.6 MB 697.8 kB/s eta 0:00:15\n",
      "   --------------- ------------------------ 6.6/16.6 MB 668.8 kB/s eta 0:00:15\n",
      "   --------------- ------------------------ 6.6/16.6 MB 668.8 kB/s eta 0:00:15\n",
      "   ---------------- ----------------------- 6.8/16.6 MB 668.9 kB/s eta 0:00:15\n",
      "   ---------------- ----------------------- 6.8/16.6 MB 668.9 kB/s eta 0:00:15\n",
      "   ----------------- ---------------------- 7.1/16.6 MB 672.1 kB/s eta 0:00:15\n",
      "   ----------------- ---------------------- 7.3/16.6 MB 680.1 kB/s eta 0:00:14\n",
      "   ------------------ --------------------- 7.6/16.6 MB 689.8 kB/s eta 0:00:14\n",
      "   ------------------ --------------------- 7.9/16.6 MB 701.0 kB/s eta 0:00:13\n",
      "   ------------------ --------------------- 7.9/16.6 MB 701.0 kB/s eta 0:00:13\n",
      "   ------------------- -------------------- 8.1/16.6 MB 703.9 kB/s eta 0:00:13\n",
      "   -------------------- ------------------- 8.4/16.6 MB 708.6 kB/s eta 0:00:12\n",
      "   -------------------- ------------------- 8.7/16.6 MB 718.7 kB/s eta 0:00:12\n",
      "   --------------------- ------------------ 8.9/16.6 MB 727.5 kB/s eta 0:00:11\n",
      "   ---------------------- ----------------- 9.2/16.6 MB 735.1 kB/s eta 0:00:11\n",
      "   ---------------------- ----------------- 9.4/16.6 MB 746.1 kB/s eta 0:00:10\n",
      "   ----------------------- ---------------- 9.7/16.6 MB 756.9 kB/s eta 0:00:10\n",
      "   ------------------------ --------------- 10.0/16.6 MB 763.5 kB/s eta 0:00:09\n",
      "   ------------------------ --------------- 10.2/16.6 MB 766.3 kB/s eta 0:00:09\n",
      "   ------------------------- -------------- 10.5/16.6 MB 770.7 kB/s eta 0:00:08\n",
      "   ------------------------- -------------- 10.5/16.6 MB 770.7 kB/s eta 0:00:08\n",
      "   ------------------------- -------------- 10.7/16.6 MB 774.9 kB/s eta 0:00:08\n",
      "   -------------------------- ------------- 11.0/16.6 MB 780.8 kB/s eta 0:00:08\n",
      "   --------------------------- ------------ 11.3/16.6 MB 785.5 kB/s eta 0:00:07\n",
      "   --------------------------- ------------ 11.5/16.6 MB 793.6 kB/s eta 0:00:07\n",
      "   ---------------------------- ----------- 11.8/16.6 MB 803.2 kB/s eta 0:00:06\n",
      "   ----------------------------- ---------- 12.3/16.6 MB 815.8 kB/s eta 0:00:06\n",
      "   ------------------------------ --------- 12.6/16.6 MB 825.7 kB/s eta 0:00:05\n",
      "   ------------------------------ --------- 12.8/16.6 MB 833.6 kB/s eta 0:00:05\n",
      "   -------------------------------- ------- 13.4/16.6 MB 850.7 kB/s eta 0:00:04\n",
      "   -------------------------------- ------- 13.6/16.6 MB 859.9 kB/s eta 0:00:04\n",
      "   ---------------------------------- ----- 14.2/16.6 MB 880.3 kB/s eta 0:00:03\n",
      "   ----------------------------------- ---- 14.7/16.6 MB 901.1 kB/s eta 0:00:03\n",
      "   ------------------------------------ --- 15.2/16.6 MB 924.0 kB/s eta 0:00:02\n",
      "   ------------------------------------- -- 15.7/16.6 MB 938.2 kB/s eta 0:00:01\n",
      "   ---------------------------------------  16.3/16.6 MB 958.2 kB/s eta 0:00:01\n",
      "   ---------------------------------------- 16.6/16.6 MB 967.0 kB/s eta 0:00:00\n",
      "Installing collected packages: PyMuPDF\n",
      "Successfully installed PyMuPDF-1.25.5\n"
     ]
    }
   ],
   "source": [
    "!pip install PyMuPDF"
   ]
  },
  {
   "cell_type": "code",
   "execution_count": 5,
   "metadata": {},
   "outputs": [
    {
     "name": "stdout",
     "output_type": "stream",
     "text": [
      "[{'resume_name': 'Data/Extracted/sample.pdf', 'resume_text': 'madhava reddy creative programmer faat madhavso2018 fap hone 9347156120 famapmarker vijayawada india falinkedin summary dedicated computer science engineering student strong passion data analysis machine learning web development seeking position apply technical skills innovative mindset solve complex problems tribute organization success education computer science engineering aiml nri institute technology z 2020 2024 pothavarappadu cgpa board intermediate education ap mpc sri chaitanya educational institutions z 2018 2020 vijayawada cgpa andhra pradesh board secondary education high school z 2017 2018 vijayawada cgpa projects data extractor tripadvisor reviews eapcet flipkart academic performance cases prediction using machine learning developed machine learning models predict cases aiding proactive public health measures online prices monitor bot designed implemented price monitoring telegram bot skills technical skills programming languages python java c data analysis pandas numpy web development html css javascript database mysql oracle tools data visualization matplotlib seaborn web scraping beautifulsoup selenium machine learning tensorflow learn ides visual studio code pycharm experience june 2022 intern blackbucks engineers pvt ltd hyderabad india responsibilities collected organized entered critical data coordinated project presentations created reports top management utilized python machine learning role certifications microsoft certiﬁed devops engineer expert z mar 2023 blackbucks engineers pvt ltd internship experience letter z nov 2022 ibm certiﬁcation coursera python project data engineering z oct 2022'}, {'resume_name': 'Data/Extracted/sample2.pdf', 'resume_text': 'experience education skills certifications vijayawada india madalasaranya974 9666486245 saranya madala tech enthusiast collected structured entered vital data system orchestrated engaging project presentations delivering succinct updates senior staff thereby facilitating informed produced comprehensive reports outlining discoveries offering strategic recommendations blackbucks engineers pvt ltd prepared distributed reports presentations materials handled confidential documents maintained proper organization coordinated travel arrangements accommodations executives guests statskew computer science engineering aiml 2020 2024 mpc 2018 2020 programming languages java python c software development agile methodologies sdlc version control git database management sql mysql mongodb data scraping selenium beautifulsoup development html css javascript networking dns operating systems linux windows programming oop effective communication analytical proficiency python project data engineering computer vision image processing sql bootcamp zero hero power bi intern intern nri institute technology sri chaitanya educational institutions https cgpa cgpa chukkapalli high school high school 2006 2018 cgpa languages english fluent telugu native personal projects data extractor 1 tripadvisor ratings eapcet flipkart academic performance 2 eapcet counselling bot developed executed guidance bot platform streamline counseling process students resulting 40 reduction average response time ensuring personalized assistance throughout entire journey university projects 1 fifa analysis directed fifa analysis project leveraging insights elevate team performance strategies resulting 15 improvement player development optimization disease prediction system engineered optimized multiple disease prediction system leveraging advanced machine learning algorithms significantly improved predictive analytics healthcare diagnostics volunteer experience led coordination microsoft exams university students diverse departments third year engineering highlighting organizational leadership capabilities demonstrated adeptness critical thinking approaches achievements participant startathon event held university festival showcasing strong initiative commitment innovation'}, {'resume_name': 'Data/Extracted/sample3.pdf', 'resume_text': 'experience education skills certifications vijayawada india madalasaranya974 9666486245 saranya madala tech enthusiast collected structured entered vital data system orchestrated engaging project presentations delivering succinct updates senior staff thereby facilitating informed produced comprehensive reports outlining discoveries offering strategic recommendations blackbucks engineers pvt ltd prepared distributed reports presentations materials handled confidential documents maintained proper organization coordinated travel arrangements accommodations executives guests statskew computer science engineering aiml 2020 2024 mpc 2018 2020 programming languages java python c software development agile methodologies sdlc version control git database management sql mysql mongodb data scraping selenium beautifulsoup development html css javascript networking dns operating systems linux windows programming oop effective communication analytical proficiency python project data engineering computer vision image processing sql bootcamp zero hero power bi intern intern nri institute technology sri chaitanya educational institutions https cgpa cgpa chukkapalli high school high school 2006 2018 cgpa languages english fluent telugu native personal projects data extractor 1 tripadvisor ratings eapcet flipkart academic performance 2 eapcet counselling bot developed executed guidance bot platform streamline counseling process students resulting 40 reduction average response time ensuring personalized assistance throughout entire journey university projects 1 fifa analysis directed fifa analysis project leveraging insights elevate team performance strategies resulting 15 improvement player development optimization disease prediction system engineered optimized multiple disease prediction system leveraging advanced machine learning algorithms significantly improved predictive analytics healthcare diagnostics volunteer experience led coordination microsoft exams university students diverse departments third year engineering highlighting organizational leadership capabilities demonstrated adeptness critical thinking approaches achievements participant startathon event held university festival showcasing strong initiative commitment innovation'}]\n",
      "data center engineering intern winter 2024 google place mumbai maharashtra india intern apprentice minimum qualifications currently pursuing bachelor master phd degree computer science related technical field experience installing network linux system ability communicate english fluently apply share please complete application 5 2024 winter internships start february 2024 weeks duration internship intended students pursuing final year bachelor master dual degree program computer science related field graduate 2024 start application process need updated cv resume current unofficial official transcript english click apply button page provide required materials appropriate sections pdfs preferred 1 resume section attach updated cv resume please ensure listed anticipated graduation date proficiency statistical software database languages resume along technical experience projects 2 education section attach current recent unofficial official transcript english degree status select attending upload transcript back jobs search preferred qualifications familiarity basic concepts network linux systems ability understand develop data center architectures products system design operations maintenance procedures excellent problem solving skills ability use tools produce highly accurate analyses ensure designs satisfy safety requirements available work full time minimum 6 months outside university term time job behind google simple search box one complex technology infrastructures world behind infrastructure diverse group googlers design build keep lights users data center engineering team takes physical design data centers future technical engineering support teams bring ideas life teams use creative approaches reduce operational costs extend traditional practices meet goal making data centers energy efficient environmentally sustainable world hardware operations team team data center responsible monitoring maintaining deploying physical infrastructure behind google powerful search technology operations engineers deploy maintain google advanced data center server network infrastructure duties range physical deployment data related technology working closely various stakeholders team offers great introduction wider engineering world google google always engineering company hire people broad set technical skills ready address technology greatest challenges make impact millions billions users google engineers revolutionize search routinely work massive scalability storage solutions applications entirely new platforms developers around world google ads chrome android youtube social local google engineers changing world one technological achievement another responsibilities contribute repairs upgrades deployments cabling identify trends machine failure report bugs work remote teams resolve communicate effectively clients partners contribute projects deployment maintenance provide support current new data center infrastructure configure troubleshoot linux challenges servers resolve critical escalated technical challenges significant population affected equipment information collected processed part google careers profile job applications choose submit subject google applicant candidate privacy policy google proud equal opportunity affirmative action employer committed building workforce representative users serve creating culture belonging providing equal employment opportunity regardless race creed colour religion gender sexual orientation gender national origin disability age genetic information veteran status marital status pregnancy related condition including breastfeeding expecting criminal histories consistent legal requirements basis protected law see also google eeo policy know rights workplace discrimination illegal belonging google hire need requires accommodation please let us know completing accommodations applicants form google global company order facilitate efficient collaboration communication globally english proficiency requirement roles unless stated otherwise job posting recruitment agencies google accept agency cvs please forward cvs jobs alias google employees organisation location google responsible fees related unsolicited cvs follow life google us us contact us press related information investor relations blog equal opportunity google proud equal opportunity affirmative action employer committed building workforce representative users serve creating culture belonging providing equal employment opportunity regardless race creed colour religion gender sexual orientation gender national origin disability age genetic information veteran status marital status pregnancy related condition including breastfeeding expecting criminal histories consistent legal requirements basis protected law see also google eeo policy know rights workplace discrimination illegal belonging google hire privacy applicant candidate privacy terms help help\n"
     ]
    },
    {
     "data": {
      "text/html": [
       "<div>\n",
       "<style scoped>\n",
       "    .dataframe tbody tr th:only-of-type {\n",
       "        vertical-align: middle;\n",
       "    }\n",
       "\n",
       "    .dataframe tbody tr th {\n",
       "        vertical-align: top;\n",
       "    }\n",
       "\n",
       "    .dataframe thead th {\n",
       "        text-align: right;\n",
       "    }\n",
       "</style>\n",
       "<table border=\"1\" class=\"dataframe\">\n",
       "  <thead>\n",
       "    <tr style=\"text-align: right;\">\n",
       "      <th></th>\n",
       "      <th>resume_name</th>\n",
       "      <th>resume_text</th>\n",
       "    </tr>\n",
       "  </thead>\n",
       "  <tbody>\n",
       "    <tr>\n",
       "      <th>0</th>\n",
       "      <td>Data/Extracted/sample.pdf</td>\n",
       "      <td>madhava reddy creative programmer faat madhavs...</td>\n",
       "    </tr>\n",
       "    <tr>\n",
       "      <th>1</th>\n",
       "      <td>Data/Extracted/sample2.pdf</td>\n",
       "      <td>experience education skills certifications vij...</td>\n",
       "    </tr>\n",
       "    <tr>\n",
       "      <th>2</th>\n",
       "      <td>Data/Extracted/sample3.pdf</td>\n",
       "      <td>experience education skills certifications vij...</td>\n",
       "    </tr>\n",
       "  </tbody>\n",
       "</table>\n",
       "</div>"
      ],
      "text/plain": [
       "                  resume_name  \\\n",
       "0   Data/Extracted/sample.pdf   \n",
       "1  Data/Extracted/sample2.pdf   \n",
       "2  Data/Extracted/sample3.pdf   \n",
       "\n",
       "                                         resume_text  \n",
       "0  madhava reddy creative programmer faat madhavs...  \n",
       "1  experience education skills certifications vij...  \n",
       "2  experience education skills certifications vij...  "
      ]
     },
     "execution_count": 5,
     "metadata": {},
     "output_type": "execute_result"
    }
   ],
   "source": [
    "import pandas as pd\n",
    "import fitz\n",
    "from nltk.tokenize import word_tokenize\n",
    "from nltk.corpus import stopwords\n",
    "\n",
    "def load_data(job_description_file, resumes_file):\n",
    "    resumes_df = []\n",
    "    stop_words = set(stopwords.words('english'))\n",
    "    for resume in resumes_file:\n",
    "        text = \"\"\n",
    "        with fitz.open(resume) as pdf_document:\n",
    "            for page_number in range(pdf_document.page_count):\n",
    "                page = pdf_document[page_number]\n",
    "                text += page.get_text()\n",
    "        words = word_tokenize(text)\n",
    "        words = [word.lower() for word in words if word.isalnum()]\n",
    "        words = [word for word in words if word not in stop_words]\n",
    "        text = ' '.join(words)\n",
    "        resumes_df.append({'resume_name':resume, 'resume_text': text})\n",
    "    print(resumes_df)\n",
    "    resumes_df = pd.DataFrame(resumes_df)\n",
    "\n",
    "    job_descriptions = \"\"\n",
    "    with fitz.open(job_description_file) as job_description_file:\n",
    "        for page_number in range(job_description_file.page_count):\n",
    "            page = job_description_file[page_number]\n",
    "            job_descriptions += page.get_text()\n",
    "    words = word_tokenize(job_descriptions)\n",
    "    words = [word.lower() for word in words if word.isalnum()]\n",
    "    words = [word for word in words if word not in stop_words]\n",
    "    job_descriptions = ' '.join(words)\n",
    "\n",
    "    return job_descriptions, resumes_df\n",
    "\n",
    "# print(['Data/Extracted/'+x for x in os.listdir('Data/Extracted/')])\n",
    "JD, resume_df = load_data('Data/sample_JD.pdf',['Data/Extracted/'+x for x in os.listdir('Data/Extracted/')])\n",
    "print(JD)\n",
    "resume_df"
   ]
  },
  {
   "cell_type": "code",
   "execution_count": 6,
   "metadata": {},
   "outputs": [
    {
     "name": "stdout",
     "output_type": "stream",
     "text": [
      "Current Working Directory: D:\\project\\Major Project\\Final Documents\\Code Explanation\n",
      "Exists: True\n",
      "Contents: ['sample.pdf', 'sample2.pdf', 'sample3.pdf']\n"
     ]
    }
   ],
   "source": [
    "import os\n",
    "\n",
    "print(\"Current Working Directory:\", os.getcwd())\n",
    "print(\"Exists:\", os.path.exists('Data/Extracted'))\n",
    "print(\"Contents:\", os.listdir('Data/Extracted') if os.path.exists('Data/Extracted') else \"Folder not found\")\n"
   ]
  },
  {
   "cell_type": "markdown",
   "metadata": {},
   "source": [
    "<a id=\"analysis-of-job-description\"></a>\n",
    "## 5. Analysis of Job Description\n",
    "Here, we analyze the job description to identify key requirements and skills. This involves using TF-IDF (Term Frequency-Inverse Document Frequency) to extract important keywords."
   ]
  },
  {
   "cell_type": "code",
   "execution_count": 7,
   "metadata": {},
   "outputs": [
    {
     "name": "stdout",
     "output_type": "stream",
     "text": [
      "{'google': 0.5214500094539749, 'data': 0.21332045841298974, 'related': 0.165915912098992, 'center': 0.14221363894199315, 'engineering': 0.1185113657849943, 'equal': 0.1185113657849943, 'opportunity': 0.1185113657849943, 'status': 0.1185113657849943, 'technical': 0.1185113657849943, 'world': 0.1185113657849943, '2024': 0.09480909262799544, 'belonging': 0.09480909262799544, 'english': 0.09480909262799544, 'gender': 0.09480909262799544, 'information': 0.09480909262799544, 'infrastructure': 0.09480909262799544, 'please': 0.09480909262799544, 'resume': 0.09480909262799544, 'search': 0.09480909262799544, 'team': 0.09480909262799544, 'technology': 0.09480909262799544, 'us': 0.09480909262799544, 'users': 0.09480909262799544, 'ability': 0.07110681947099658, 'behind': 0.07110681947099658, 'challenges': 0.07110681947099658, 'current': 0.07110681947099658, 'cvs': 0.07110681947099658, 'degree': 0.07110681947099658, 'design': 0.07110681947099658, 'engineers': 0.07110681947099658, 'hire': 0.07110681947099658, 'job': 0.07110681947099658, 'know': 0.07110681947099658, 'linux': 0.07110681947099658, 'network': 0.07110681947099658, 'operations': 0.07110681947099658, 'physical': 0.07110681947099658, 'policy': 0.07110681947099658, 'privacy': 0.07110681947099658, 'requirements': 0.07110681947099658, 'teams': 0.07110681947099658, 'transcript': 0.07110681947099658, 'work': 0.07110681947099658, 'action': 0.04740454631399772, 'affirmative': 0.04740454631399772, 'age': 0.04740454631399772, 'also': 0.04740454631399772, 'applicant': 0.04740454631399772, 'application': 0.04740454631399772}\n"
     ]
    }
   ],
   "source": [
    "from sklearn.feature_extraction.text import TfidfVectorizer\n",
    "\n",
    "def analyze_job_role(job_description, stop_words):\n",
    "    stop_words.update([\"role\", \"responsibilities\", \"skills\", \"experience\", \"qualifications\"])  # Add additional custom stop words\n",
    "    job_description = ' '.join([word for word in job_description.lower().split() if word not in stop_words])\n",
    "\n",
    "    tfidf_vectorizer = TfidfVectorizer()\n",
    "\n",
    "    tfidf_matrix = tfidf_vectorizer.fit_transform([job_description])\n",
    "\n",
    "    feature_names = tfidf_vectorizer.get_feature_names_out()\n",
    "    \n",
    "    tfidf_scores = tfidf_matrix.toarray()[0]\n",
    "\n",
    "    keyword_scores = dict(zip(feature_names, tfidf_scores))\n",
    "\n",
    "    sorted_keywords = sorted(keyword_scores.items(), key=lambda x: x[1], reverse=True)\n",
    "\n",
    "    top_keywords = dict([(keyword,score) for keyword, score in sorted_keywords[:50]])\n",
    "\n",
    "    return top_keywords\n",
    "\n",
    "stop_words = set(stopwords.words('english'))\n",
    "job_keywords = analyze_job_role(JD, stop_words)\n",
    "print(job_keywords)"
   ]
  },
  {
   "cell_type": "markdown",
   "metadata": {},
   "source": [
    "<a id=\"analysis-of-candidate-resume\"></a>\n",
    "## 6. Analysis of Candidate Resume\n",
    "Each candidate's resume is analyzed to extract relevant features and qualifications. We employ TF-IDF to identify important terms within the resumes."
   ]
  },
  {
   "cell_type": "code",
   "execution_count": 8,
   "metadata": {},
   "outputs": [
    {
     "name": "stdout",
     "output_type": "stream",
     "text": [
      "Data/Extracted/sample.pdf\n",
      "{'data': 0.3258752679561411, 'learning': 0.2715627232967842, 'machine': 0.2715627232967842, '2022': 0.16293763397807054, 'cgpa': 0.16293763397807054, 'education': 0.16293763397807054, 'engineering': 0.16293763397807054, 'python': 0.16293763397807054, 'vijayawada': 0.16293763397807054, 'web': 0.16293763397807054, '2018': 0.10862508931871369, '2020': 0.10862508931871369, 'analysis': 0.10862508931871369, 'blackbucks': 0.10862508931871369, 'board': 0.10862508931871369, 'bot': 0.10862508931871369, 'cases': 0.10862508931871369, 'computer': 0.10862508931871369, 'development': 0.10862508931871369, 'engineers': 0.10862508931871369, 'india': 0.10862508931871369, 'ltd': 0.10862508931871369, 'project': 0.10862508931871369, 'pvt': 0.10862508931871369, 'science': 0.10862508931871369, 'technical': 0.10862508931871369, '2017': 0.054312544659356844, '2023': 0.054312544659356844, '2024': 0.054312544659356844, '9347156120': 0.054312544659356844, 'academic': 0.054312544659356844, 'aiding': 0.054312544659356844, 'aiml': 0.054312544659356844, 'andhra': 0.054312544659356844, 'ap': 0.054312544659356844, 'apply': 0.054312544659356844, 'beautifulsoup': 0.054312544659356844, 'certifications': 0.054312544659356844, 'certiﬁcation': 0.054312544659356844, 'certiﬁed': 0.054312544659356844, 'chaitanya': 0.054312544659356844, 'code': 0.054312544659356844, 'collected': 0.054312544659356844, 'complex': 0.054312544659356844, 'coordinated': 0.054312544659356844, 'coursera': 0.054312544659356844, 'created': 0.054312544659356844, 'creative': 0.054312544659356844, 'critical': 0.054312544659356844, 'css': 0.054312544659356844}\n",
      "\n",
      "\n",
      "\n",
      "Data/Extracted/sample2.pdf\n",
      "{'data': 0.21566554640687682, 'cgpa': 0.1617491598051576, 'development': 0.1617491598051576, 'engineering': 0.1617491598051576, 'project': 0.1617491598051576, 'system': 0.1617491598051576, 'university': 0.1617491598051576, '2018': 0.10783277320343841, '2020': 0.10783277320343841, 'analysis': 0.10783277320343841, 'bot': 0.10783277320343841, 'computer': 0.10783277320343841, 'disease': 0.10783277320343841, 'eapcet': 0.10783277320343841, 'fifa': 0.10783277320343841, 'high': 0.10783277320343841, 'intern': 0.10783277320343841, 'languages': 0.10783277320343841, 'leveraging': 0.10783277320343841, 'performance': 0.10783277320343841, 'prediction': 0.10783277320343841, 'presentations': 0.10783277320343841, 'programming': 0.10783277320343841, 'projects': 0.10783277320343841, 'python': 0.10783277320343841, 'reports': 0.10783277320343841, 'resulting': 0.10783277320343841, 'school': 0.10783277320343841, 'sql': 0.10783277320343841, 'students': 0.10783277320343841, '15': 0.053916386601719206, '2006': 0.053916386601719206, '2024': 0.053916386601719206, '40': 0.053916386601719206, '9666486245': 0.053916386601719206, 'academic': 0.053916386601719206, 'accommodations': 0.053916386601719206, 'achievements': 0.053916386601719206, 'adeptness': 0.053916386601719206, 'advanced': 0.053916386601719206, 'agile': 0.053916386601719206, 'aiml': 0.053916386601719206, 'algorithms': 0.053916386601719206, 'analytical': 0.053916386601719206, 'analytics': 0.053916386601719206, 'approaches': 0.053916386601719206, 'arrangements': 0.053916386601719206, 'assistance': 0.053916386601719206, 'average': 0.053916386601719206, 'beautifulsoup': 0.053916386601719206}\n",
      "\n",
      "\n",
      "\n",
      "Data/Extracted/sample3.pdf\n",
      "{'data': 0.21566554640687682, 'cgpa': 0.1617491598051576, 'development': 0.1617491598051576, 'engineering': 0.1617491598051576, 'project': 0.1617491598051576, 'system': 0.1617491598051576, 'university': 0.1617491598051576, '2018': 0.10783277320343841, '2020': 0.10783277320343841, 'analysis': 0.10783277320343841, 'bot': 0.10783277320343841, 'computer': 0.10783277320343841, 'disease': 0.10783277320343841, 'eapcet': 0.10783277320343841, 'fifa': 0.10783277320343841, 'high': 0.10783277320343841, 'intern': 0.10783277320343841, 'languages': 0.10783277320343841, 'leveraging': 0.10783277320343841, 'performance': 0.10783277320343841, 'prediction': 0.10783277320343841, 'presentations': 0.10783277320343841, 'programming': 0.10783277320343841, 'projects': 0.10783277320343841, 'python': 0.10783277320343841, 'reports': 0.10783277320343841, 'resulting': 0.10783277320343841, 'school': 0.10783277320343841, 'sql': 0.10783277320343841, 'students': 0.10783277320343841, '15': 0.053916386601719206, '2006': 0.053916386601719206, '2024': 0.053916386601719206, '40': 0.053916386601719206, '9666486245': 0.053916386601719206, 'academic': 0.053916386601719206, 'accommodations': 0.053916386601719206, 'achievements': 0.053916386601719206, 'adeptness': 0.053916386601719206, 'advanced': 0.053916386601719206, 'agile': 0.053916386601719206, 'aiml': 0.053916386601719206, 'algorithms': 0.053916386601719206, 'analytical': 0.053916386601719206, 'analytics': 0.053916386601719206, 'approaches': 0.053916386601719206, 'arrangements': 0.053916386601719206, 'assistance': 0.053916386601719206, 'average': 0.053916386601719206, 'beautifulsoup': 0.053916386601719206}\n",
      "\n",
      "\n",
      "\n"
     ]
    }
   ],
   "source": [
    "def analyze_candidate_resume(resume, stop_words):\n",
    "    stop_words.update([\"phone\", \"email\", \"address\", \"linkedin\", \"github\"])  # Add additional custom stop words\n",
    "    resume = ' '.join([word for word in resume.lower().split() if word not in stop_words])\n",
    "\n",
    "    tfidf_vectorizer = TfidfVectorizer()\n",
    "\n",
    "    tfidf_matrix = tfidf_vectorizer.fit_transform([resume])\n",
    "\n",
    "    feature_names = tfidf_vectorizer.get_feature_names_out()\n",
    "\n",
    "    tfidf_scores = tfidf_matrix.toarray()[0]\n",
    "\n",
    "    resume_features = dict(zip(feature_names, tfidf_scores))\n",
    "    \n",
    "    sorted_keywords = sorted(resume_features.items(), key=lambda x: x[1], reverse=True)\n",
    "    \n",
    "    resume_features = dict([(keyword,score) for keyword, score in sorted_keywords[:50]])\n",
    "\n",
    "    return resume_features\n",
    "\n",
    "for idx in range(len(resume_df)):\n",
    "    print(resume_df['resume_name'][idx])\n",
    "    candidate_features = analyze_candidate_resume(resume_df['resume_text'][idx],stop_words)\n",
    "    print(candidate_features, end=\"\\n\\n\\n\\n\")"
   ]
  },
  {
   "cell_type": "markdown",
   "metadata": {},
   "source": [
    "<a id=\"applying-lda-model\"></a>\n",
    "## 7. Applying LDA Model (Demo)\n",
    "In this section, we demonstrate the application of the LDA (Latent Dirichlet Allocation) model on the job keywords. LDA helps uncover underlying topics within the job description."
   ]
  },
  {
   "cell_type": "code",
   "execution_count": 10,
   "metadata": {},
   "outputs": [
    {
     "name": "stdout",
     "output_type": "stream",
     "text": [
      "Collecting gensim\n",
      "  Downloading gensim-4.3.3-cp39-cp39-win_amd64.whl.metadata (8.2 kB)\n",
      "Requirement already satisfied: numpy<2.0,>=1.18.5 in c:\\users\\pavan\\anaconda3\\envs\\action_detect\\lib\\site-packages (from gensim) (1.26.4)\n",
      "Requirement already satisfied: scipy<1.14.0,>=1.7.0 in c:\\users\\pavan\\anaconda3\\envs\\action_detect\\lib\\site-packages (from gensim) (1.13.1)\n",
      "Collecting smart-open>=1.8.1 (from gensim)\n",
      "  Downloading smart_open-7.1.0-py3-none-any.whl.metadata (24 kB)\n",
      "Requirement already satisfied: wrapt in c:\\users\\pavan\\anaconda3\\envs\\action_detect\\lib\\site-packages (from smart-open>=1.8.1->gensim) (1.17.0)\n",
      "Downloading gensim-4.3.3-cp39-cp39-win_amd64.whl (24.0 MB)\n",
      "   ---------------------------------------- 0.0/24.0 MB ? eta -:--:--\n",
      "   ---------------------------------------- 0.0/24.0 MB ? eta -:--:--\n",
      "    --------------------------------------- 0.5/24.0 MB 8.5 MB/s eta 0:00:03\n",
      "    --------------------------------------- 0.5/24.0 MB 8.5 MB/s eta 0:00:03\n",
      "    --------------------------------------- 0.5/24.0 MB 8.5 MB/s eta 0:00:03\n",
      "   - -------------------------------------- 0.8/24.0 MB 714.3 kB/s eta 0:00:33\n",
      "   - -------------------------------------- 0.8/24.0 MB 714.3 kB/s eta 0:00:33\n",
      "   - -------------------------------------- 0.8/24.0 MB 714.3 kB/s eta 0:00:33\n",
      "   - -------------------------------------- 0.8/24.0 MB 714.3 kB/s eta 0:00:33\n",
      "   - -------------------------------------- 0.8/24.0 MB 714.3 kB/s eta 0:00:33\n",
      "   - -------------------------------------- 1.0/24.0 MB 453.5 kB/s eta 0:00:51\n",
      "   -- ------------------------------------- 1.3/24.0 MB 508.5 kB/s eta 0:00:45\n",
      "   -- ------------------------------------- 1.6/24.0 MB 607.9 kB/s eta 0:00:37\n",
      "   --- ------------------------------------ 1.8/24.0 MB 671.0 kB/s eta 0:00:34\n",
      "   --- ------------------------------------ 2.1/24.0 MB 695.1 kB/s eta 0:00:32\n",
      "   --- ------------------------------------ 2.1/24.0 MB 695.1 kB/s eta 0:00:32\n",
      "   --- ------------------------------------ 2.4/24.0 MB 688.3 kB/s eta 0:00:32\n",
      "   --- ------------------------------------ 2.4/24.0 MB 688.3 kB/s eta 0:00:32\n",
      "   ---- ----------------------------------- 2.9/24.0 MB 745.8 kB/s eta 0:00:29\n",
      "   ---- ----------------------------------- 2.9/24.0 MB 745.8 kB/s eta 0:00:29\n",
      "   ---- ----------------------------------- 2.9/24.0 MB 745.8 kB/s eta 0:00:29\n",
      "   ---- ----------------------------------- 2.9/24.0 MB 745.8 kB/s eta 0:00:29\n",
      "   ----- ---------------------------------- 3.1/24.0 MB 671.1 kB/s eta 0:00:32\n",
      "   ----- ---------------------------------- 3.4/24.0 MB 689.5 kB/s eta 0:00:30\n",
      "   ------ --------------------------------- 3.7/24.0 MB 715.2 kB/s eta 0:00:29\n",
      "   ------ --------------------------------- 3.9/24.0 MB 729.5 kB/s eta 0:00:28\n",
      "   ------ --------------------------------- 4.2/24.0 MB 744.6 kB/s eta 0:00:27\n",
      "   ------- -------------------------------- 4.5/24.0 MB 764.8 kB/s eta 0:00:26\n",
      "   -------- ------------------------------- 5.0/24.0 MB 822.9 kB/s eta 0:00:24\n",
      "   -------- ------------------------------- 5.2/24.0 MB 852.3 kB/s eta 0:00:23\n",
      "   --------- ------------------------------ 5.5/24.0 MB 856.0 kB/s eta 0:00:22\n",
      "   ---------- ----------------------------- 6.0/24.0 MB 911.4 kB/s eta 0:00:20\n",
      "   ---------- ----------------------------- 6.6/24.0 MB 952.0 kB/s eta 0:00:19\n",
      "   ----------- ---------------------------- 6.8/24.0 MB 964.2 kB/s eta 0:00:18\n",
      "   ----------- ---------------------------- 7.1/24.0 MB 971.6 kB/s eta 0:00:18\n",
      "   ------------ --------------------------- 7.3/24.0 MB 989.1 kB/s eta 0:00:17\n",
      "   ------------- -------------------------- 7.9/24.0 MB 1.0 MB/s eta 0:00:16\n",
      "   ------------- -------------------------- 8.1/24.0 MB 1.0 MB/s eta 0:00:16\n",
      "   ------------- -------------------------- 8.4/24.0 MB 1.0 MB/s eta 0:00:15\n",
      "   -------------- ------------------------- 8.9/24.0 MB 1.1 MB/s eta 0:00:15\n",
      "   --------------- ------------------------ 9.2/24.0 MB 1.1 MB/s eta 0:00:14\n",
      "   ---------------- ----------------------- 9.7/24.0 MB 1.1 MB/s eta 0:00:13\n",
      "   ----------------- ---------------------- 10.2/24.0 MB 1.1 MB/s eta 0:00:13\n",
      "   ----------------- ---------------------- 10.5/24.0 MB 1.2 MB/s eta 0:00:12\n",
      "   ----------------- ---------------------- 10.7/24.0 MB 1.1 MB/s eta 0:00:12\n",
      "   ------------------ --------------------- 11.0/24.0 MB 1.2 MB/s eta 0:00:12\n",
      "   ------------------- -------------------- 11.5/24.0 MB 1.2 MB/s eta 0:00:11\n",
      "   ------------------- -------------------- 11.8/24.0 MB 1.2 MB/s eta 0:00:11\n",
      "   -------------------- ------------------- 12.3/24.0 MB 1.2 MB/s eta 0:00:10\n",
      "   -------------------- ------------------- 12.6/24.0 MB 1.2 MB/s eta 0:00:10\n",
      "   --------------------- ------------------ 13.1/24.0 MB 1.2 MB/s eta 0:00:09\n",
      "   ---------------------- ----------------- 13.4/24.0 MB 1.2 MB/s eta 0:00:09\n",
      "   ----------------------- ---------------- 13.9/24.0 MB 1.3 MB/s eta 0:00:09\n",
      "   ------------------------ --------------- 14.4/24.0 MB 1.3 MB/s eta 0:00:08\n",
      "   ------------------------ --------------- 14.9/24.0 MB 1.3 MB/s eta 0:00:08\n",
      "   ------------------------- -------------- 15.2/24.0 MB 1.3 MB/s eta 0:00:07\n",
      "   ------------------------- -------------- 15.2/24.0 MB 1.3 MB/s eta 0:00:07\n",
      "   -------------------------- ------------- 16.0/24.0 MB 1.3 MB/s eta 0:00:07\n",
      "   --------------------------- ------------ 16.5/24.0 MB 1.3 MB/s eta 0:00:06\n",
      "   ---------------------------- ----------- 17.0/24.0 MB 1.3 MB/s eta 0:00:06\n",
      "   ---------------------------- ----------- 17.0/24.0 MB 1.3 MB/s eta 0:00:06\n",
      "   ---------------------------- ----------- 17.3/24.0 MB 1.3 MB/s eta 0:00:06\n",
      "   ----------------------------- ---------- 17.6/24.0 MB 1.3 MB/s eta 0:00:05\n",
      "   ----------------------------- ---------- 17.8/24.0 MB 1.3 MB/s eta 0:00:05\n",
      "   ------------------------------ --------- 18.4/24.0 MB 1.3 MB/s eta 0:00:05\n",
      "   ------------------------------- -------- 18.9/24.0 MB 1.4 MB/s eta 0:00:04\n",
      "   -------------------------------- ------- 19.4/24.0 MB 1.4 MB/s eta 0:00:04\n",
      "   --------------------------------- ------ 20.2/24.0 MB 1.4 MB/s eta 0:00:03\n",
      "   ---------------------------------- ----- 20.7/24.0 MB 1.4 MB/s eta 0:00:03\n",
      "   ---------------------------------- ----- 21.0/24.0 MB 1.4 MB/s eta 0:00:03\n",
      "   ----------------------------------- ---- 21.2/24.0 MB 1.4 MB/s eta 0:00:02\n",
      "   ------------------------------------ --- 21.8/24.0 MB 1.4 MB/s eta 0:00:02\n",
      "   ------------------------------------ --- 22.0/24.0 MB 1.4 MB/s eta 0:00:02\n",
      "   ------------------------------------ --- 22.0/24.0 MB 1.4 MB/s eta 0:00:02\n",
      "   ------------------------------------- -- 22.3/24.0 MB 1.4 MB/s eta 0:00:02\n",
      "   ------------------------------------- -- 22.3/24.0 MB 1.4 MB/s eta 0:00:02\n",
      "   ------------------------------------- -- 22.8/24.0 MB 1.4 MB/s eta 0:00:01\n",
      "   -------------------------------------- - 23.1/24.0 MB 1.4 MB/s eta 0:00:01\n",
      "   -------------------------------------- - 23.1/24.0 MB 1.4 MB/s eta 0:00:01\n",
      "   -------------------------------------- - 23.1/24.0 MB 1.4 MB/s eta 0:00:01\n",
      "   -------------------------------------- - 23.3/24.0 MB 1.4 MB/s eta 0:00:01\n",
      "   ---------------------------------------  23.6/24.0 MB 1.4 MB/s eta 0:00:01\n",
      "   ---------------------------------------  23.6/24.0 MB 1.4 MB/s eta 0:00:01\n",
      "   ---------------------------------------  23.6/24.0 MB 1.4 MB/s eta 0:00:01\n",
      "   ---------------------------------------  23.9/24.0 MB 1.3 MB/s eta 0:00:01\n",
      "   ---------------------------------------  23.9/24.0 MB 1.3 MB/s eta 0:00:01\n",
      "   ---------------------------------------- 24.0/24.0 MB 1.3 MB/s eta 0:00:00\n",
      "Downloading smart_open-7.1.0-py3-none-any.whl (61 kB)\n",
      "Installing collected packages: smart-open, gensim\n",
      "Successfully installed gensim-4.3.3 smart-open-7.1.0\n"
     ]
    }
   ],
   "source": [
    "!pip install gensim"
   ]
  },
  {
   "cell_type": "code",
   "execution_count": 11,
   "metadata": {},
   "outputs": [
    {
     "name": "stdout",
     "output_type": "stream",
     "text": [
      "text: {'google': 0.5214500094539749, 'data': 0.21332045841298974, 'related': 0.165915912098992, 'center': 0.14221363894199315, 'engineering': 0.1185113657849943, 'equal': 0.1185113657849943, 'opportunity': 0.1185113657849943, 'status': 0.1185113657849943, 'technical': 0.1185113657849943, 'world': 0.1185113657849943, '2024': 0.09480909262799544, 'belonging': 0.09480909262799544, 'english': 0.09480909262799544, 'gender': 0.09480909262799544, 'information': 0.09480909262799544, 'infrastructure': 0.09480909262799544, 'please': 0.09480909262799544, 'resume': 0.09480909262799544, 'search': 0.09480909262799544, 'team': 0.09480909262799544, 'technology': 0.09480909262799544, 'us': 0.09480909262799544, 'users': 0.09480909262799544, 'ability': 0.07110681947099658, 'behind': 0.07110681947099658, 'challenges': 0.07110681947099658, 'current': 0.07110681947099658, 'cvs': 0.07110681947099658, 'degree': 0.07110681947099658, 'design': 0.07110681947099658, 'engineers': 0.07110681947099658, 'hire': 0.07110681947099658, 'job': 0.07110681947099658, 'know': 0.07110681947099658, 'linux': 0.07110681947099658, 'network': 0.07110681947099658, 'operations': 0.07110681947099658, 'physical': 0.07110681947099658, 'policy': 0.07110681947099658, 'privacy': 0.07110681947099658, 'requirements': 0.07110681947099658, 'teams': 0.07110681947099658, 'transcript': 0.07110681947099658, 'work': 0.07110681947099658, 'action': 0.04740454631399772, 'affirmative': 0.04740454631399772, 'age': 0.04740454631399772, 'also': 0.04740454631399772, 'applicant': 0.04740454631399772, 'application': 0.04740454631399772}\n",
      "tokenized: [['google'], ['data'], ['related'], ['center'], ['engineering'], ['equal'], ['opportunity'], ['status'], ['technical'], ['world'], ['2024'], ['belonging'], ['english'], ['gender'], ['information'], ['infrastructure'], ['please'], ['resume'], ['search'], ['team'], ['technology'], ['us'], ['users'], ['ability'], ['behind'], ['challenges'], ['current'], ['cvs'], ['degree'], ['design'], ['engineers'], ['hire'], ['job'], ['know'], ['linux'], ['network'], ['operations'], ['physical'], ['policy'], ['privacy'], ['requirements'], ['teams'], ['transcript'], ['work'], ['action'], ['affirmative'], ['age'], ['also'], ['applicant'], ['application']]\n",
      "Dictionary<50 unique tokens: ['google', 'data', 'related', 'center', 'engineering']...>\n",
      "[[(0, 1)], [(1, 1)], [(2, 1)], [(3, 1)], [(4, 1)], [(5, 1)], [(6, 1)], [(7, 1)], [(8, 1)], [(9, 1)], [(10, 1)], [(11, 1)], [(12, 1)], [(13, 1)], [(14, 1)], [(15, 1)], [(16, 1)], [(17, 1)], [(18, 1)], [(19, 1)], [(20, 1)], [(21, 1)], [(22, 1)], [(23, 1)], [(24, 1)], [(25, 1)], [(26, 1)], [(27, 1)], [(28, 1)], [(29, 1)], [(30, 1)], [(31, 1)], [(32, 1)], [(33, 1)], [(34, 1)], [(35, 1)], [(36, 1)], [(37, 1)], [(38, 1)], [(39, 1)], [(40, 1)], [(41, 1)], [(42, 1)], [(43, 1)], [(44, 1)], [(45, 1)], [(46, 1)], [(47, 1)], [(48, 1)], [(49, 1)]]\n",
      "Corpus LDA:\n",
      "[(0, 0.10002865), (1, 0.5999009), (2, 0.10002311), (3, 0.10002428), (4, 0.10002311)]\n",
      "[(0, 0.10002724), (1, 0.10002197), (2, 0.10002198), (3, 0.5999068), (4, 0.10002198)]\n",
      "[(0, 0.10002866), (1, 0.10002312), (2, 0.59990084), (3, 0.10002429), (4, 0.10002311)]\n",
      "[(0, 0.10002865), (1, 0.10002311), (2, 0.5999009), (3, 0.10002428), (4, 0.10002311)]\n",
      "[(0, 0.10002866), (1, 0.10002311), (2, 0.59990084), (3, 0.10002429), (4, 0.10002311)]\n",
      "[(0, 0.10002724), (1, 0.10002198), (2, 0.10002198), (3, 0.5999068), (4, 0.10002197)]\n",
      "[(0, 0.100028664), (1, 0.10002311), (2, 0.59990084), (3, 0.10002428), (4, 0.10002312)]\n",
      "[(0, 0.10002725), (1, 0.10002198), (2, 0.10002198), (3, 0.5999068), (4, 0.10002198)]\n",
      "[(0, 0.10002865), (1, 0.5999009), (2, 0.10002311), (3, 0.10002428), (4, 0.10002311)]\n",
      "[(0, 0.10002865), (1, 0.100023106), (2, 0.59990084), (3, 0.10002428), (4, 0.100023106)]\n",
      "[(0, 0.10002865), (1, 0.59990084), (2, 0.100023106), (3, 0.10002428), (4, 0.100023106)]\n",
      "[(0, 0.10002865), (1, 0.100023106), (2, 0.100023106), (3, 0.100024275), (4, 0.59990084)]\n",
      "[(0, 0.10002865), (1, 0.10002311), (2, 0.10002311), (3, 0.10002428), (4, 0.5999009)]\n",
      "[(0, 0.10002725), (1, 0.10002198), (2, 0.10002197), (3, 0.5999068), (4, 0.10002198)]\n",
      "[(0, 0.10002865), (1, 0.100023106), (2, 0.100023106), (3, 0.10002428), (4, 0.59990084)]\n",
      "[(0, 0.10002865), (1, 0.5999009), (2, 0.10002311), (3, 0.10002428), (4, 0.10002311)]\n",
      "[(0, 0.5999247), (1, 0.1000186), (2, 0.1000186), (3, 0.100019544), (4, 0.1000186)]\n",
      "[(0, 0.5999247), (1, 0.10001859), (2, 0.10001859), (3, 0.10001953), (4, 0.10001859)]\n",
      "[(0, 0.10002865), (1, 0.10002311), (2, 0.59990084), (3, 0.10002428), (4, 0.100023106)]\n",
      "[(0, 0.10002866), (1, 0.59990084), (2, 0.10002312), (3, 0.10002428), (4, 0.10002312)]\n",
      "[(0, 0.100027256), (1, 0.10002199), (2, 0.10002199), (3, 0.59990674), (4, 0.10002199)]\n",
      "[(0, 0.10002865), (1, 0.100023106), (2, 0.100023106), (3, 0.100024275), (4, 0.59990084)]\n",
      "[(0, 0.59992415), (1, 0.10001862), (2, 0.10001908), (3, 0.10001956), (4, 0.10001861)]\n",
      "[(0, 0.5999247), (1, 0.1000186), (2, 0.1000186), (3, 0.100019544), (4, 0.1000186)]\n",
      "[(0, 0.10002865), (1, 0.100023106), (2, 0.59990084), (3, 0.10002428), (4, 0.100023106)]\n",
      "[(0, 0.10002865), (1, 0.100023106), (2, 0.100023106), (3, 0.10002428), (4, 0.59990084)]\n",
      "[(0, 0.10002865), (1, 0.10002311), (2, 0.10002311), (3, 0.10002428), (4, 0.5999009)]\n",
      "[(0, 0.10002865), (1, 0.59990084), (2, 0.100023106), (3, 0.100024275), (4, 0.100023106)]\n",
      "[(0, 0.10002865), (1, 0.59990084), (2, 0.100023106), (3, 0.100024275), (4, 0.100023106)]\n",
      "[(0, 0.5999247), (1, 0.10001858), (2, 0.10001858), (3, 0.10001952), (4, 0.10001858)]\n",
      "[(0, 0.10002865), (1, 0.5999009), (2, 0.10002311), (3, 0.10002428), (4, 0.10002311)]\n",
      "[(0, 0.10002866), (1, 0.10002311), (2, 0.100023106), (3, 0.10002428), (4, 0.5999009)]\n",
      "[(0, 0.10002865), (1, 0.5999009), (2, 0.10002311), (3, 0.10002428), (4, 0.10002311)]\n",
      "[(0, 0.100028664), (1, 0.10002313), (2, 0.5999008), (3, 0.1000243), (4, 0.10002313)]\n",
      "[(0, 0.5999247), (1, 0.10001859), (2, 0.10001859), (3, 0.10001953), (4, 0.10001859)]\n",
      "[(0, 0.10002725), (1, 0.10002197), (2, 0.10002198), (3, 0.5999068), (4, 0.10002198)]\n",
      "[(0, 0.10002865), (1, 0.100023106), (2, 0.59990084), (3, 0.100024275), (4, 0.100023106)]\n",
      "[(0, 0.10002725), (1, 0.10002198), (2, 0.10002198), (3, 0.5999068), (4, 0.10002198)]\n",
      "[(0, 0.10002865), (1, 0.10002311), (2, 0.59990084), (3, 0.100024275), (4, 0.100023106)]\n",
      "[(0, 0.10002865), (1, 0.10002311), (2, 0.10002311), (3, 0.10002428), (4, 0.5999009)]\n",
      "[(0, 0.10002724), (1, 0.10002198), (2, 0.10002197), (3, 0.5999068), (4, 0.10002198)]\n",
      "[(0, 0.5999247), (1, 0.10001859), (2, 0.10001859), (3, 0.10001953), (4, 0.10001859)]\n",
      "[(0, 0.10002866), (1, 0.10002311), (2, 0.10002312), (3, 0.10002429), (4, 0.59990084)]\n",
      "[(0, 0.10002865), (1, 0.5999009), (2, 0.10002311), (3, 0.10002428), (4, 0.10002311)]\n",
      "[(0, 0.10002725), (1, 0.10002198), (2, 0.10002197), (3, 0.5999068), (4, 0.10002198)]\n",
      "[(0, 0.10002865), (1, 0.5999009), (2, 0.10002311), (3, 0.10002428), (4, 0.10002311)]\n",
      "[(0, 0.10002865), (1, 0.100023106), (2, 0.100023106), (3, 0.10002428), (4, 0.59990084)]\n",
      "[(0, 0.10002865), (1, 0.100023106), (2, 0.59990084), (3, 0.100024275), (4, 0.100023106)]\n",
      "[(0, 0.10002725), (1, 0.10002198), (2, 0.10002197), (3, 0.5999068), (4, 0.10002198)]\n",
      "[(0, 0.10002864), (1, 0.100023106), (2, 0.100023106), (3, 0.10002428), (4, 0.59990084)]\n",
      "\n",
      "Dictionary:\n",
      "google: 0\n",
      "data: 1\n",
      "related: 2\n",
      "center: 3\n",
      "engineering: 4\n",
      "equal: 5\n",
      "opportunity: 6\n",
      "status: 7\n",
      "technical: 8\n",
      "world: 9\n",
      "2024: 10\n",
      "belonging: 11\n",
      "english: 12\n",
      "gender: 13\n",
      "information: 14\n",
      "infrastructure: 15\n",
      "please: 16\n",
      "resume: 17\n",
      "search: 18\n",
      "team: 19\n",
      "technology: 20\n",
      "us: 21\n",
      "users: 22\n",
      "ability: 23\n",
      "behind: 24\n",
      "challenges: 25\n",
      "current: 26\n",
      "cvs: 27\n",
      "degree: 28\n",
      "design: 29\n",
      "engineers: 30\n",
      "hire: 31\n",
      "job: 32\n",
      "know: 33\n",
      "linux: 34\n",
      "network: 35\n",
      "operations: 36\n",
      "physical: 37\n",
      "policy: 38\n",
      "privacy: 39\n",
      "requirements: 40\n",
      "teams: 41\n",
      "transcript: 42\n",
      "work: 43\n",
      "action: 44\n",
      "affirmative: 45\n",
      "age: 46\n",
      "also: 47\n",
      "applicant: 48\n",
      "application: 49\n"
     ]
    }
   ],
   "source": [
    "from gensim import corpora, models\n",
    "\n",
    "def apply_lda(texts):\n",
    "    print(f'text:',texts)\n",
    "    tokenized_texts = [text.lower().split() for text in texts]\n",
    "    print(f\"tokenized:\",tokenized_texts)\n",
    "    dictionary = corpora.Dictionary(tokenized_texts)\n",
    "    print(dictionary)\n",
    "    corpus = [dictionary.doc2bow(text) for text in tokenized_texts]\n",
    "    print(corpus)\n",
    "    num_topics = 5  # Adjust the number of topics based on your requirements\n",
    "    lda_model = models.LdaModel(corpus, num_topics=num_topics, id2word=dictionary, passes=15)\n",
    "\n",
    "    corpus_lda = lda_model[corpus]\n",
    "    \n",
    "    return lda_model, corpus_lda, dictionary\n",
    "\n",
    "lda_model, corpus_lda, dictionary = apply_lda(job_keywords)\n",
    "\n",
    "print(\"Corpus LDA:\")\n",
    "for doc in corpus_lda:\n",
    "    print(doc)\n",
    "    \n",
    "print(\"\\nDictionary:\")\n",
    "for word, index in dictionary.token2id.items():\n",
    "    print(f\"{word}: {index}\")"
   ]
  },
  {
   "cell_type": "markdown",
   "metadata": {},
   "source": [
    "<a id=\"calculating-similarity\"></a>\n",
    "## 8. Calculating Similarity between JD and Resumes\n",
    "We calculate the similarity between the job description and each resume. This involves computing cosine similarity between TF-IDF vectors and LDA topic distributions."
   ]
  },
  {
   "cell_type": "code",
   "execution_count": 14,
   "metadata": {},
   "outputs": [
    {
     "name": "stdout",
     "output_type": "stream",
     "text": [
      "[(0, 0.050042022), (1, 0.2997978), (2, 0.29979622), (3, 0.30033007), (4, 0.050033897)]\n",
      "0.7119986164491449\n"
     ]
    }
   ],
   "source": [
    "from sklearn.metrics.pairwise import cosine_similarity\n",
    "\n",
    "def calculate_similarity(job_keywords, resume_features, lda_model, corpus_lda, dictionary):\n",
    "     # Compute cosine similarity between TF-IDF vectors of job keywords and resume features\n",
    "    tfidf_cosine_similarity = cosine_similarity([list(job_keywords.values())], [list(resume_features.values())])[0][0]\n",
    "    \n",
    "    # Convert resume text to LDA vector\n",
    "    resume_lda_vector = lda_model[dictionary.doc2bow(resume_features.keys())]\n",
    "\n",
    "    # Compute similarity between job LDA topics and resume LDA vector\n",
    "    lda_similarity = 0\n",
    "    print(resume_lda_vector)\n",
    "    for topic_id, topic_score in resume_lda_vector:\n",
    "        lda_similarity += topic_score * corpus_lda[0][topic_id][1]  # Weighted similarity based on LDA scores\n",
    "\n",
    "    # Combine both similarities (you can adjust the weights based on importance)\n",
    "    final_score = 0.7 * tfidf_cosine_similarity + 0.3 * lda_similarity\n",
    "    \n",
    "    return final_score\n",
    "\n",
    "print(calculate_similarity(job_keywords, analyze_candidate_resume(resume_df['resume_text'][1],stop_words), lda_model, corpus_lda, dictionary))"
   ]
  },
  {
   "cell_type": "markdown",
   "metadata": {},
   "source": [
    "<a id=\"ranking-candidates\"></a>\n",
    "## 9. Ranking Candidates\n",
    "Candidates are ranked based on their similarity to the job description. The ranking helps identify the most suitable candidates for the position."
   ]
  },
  {
   "cell_type": "code",
   "execution_count": 19,
   "metadata": {},
   "outputs": [
    {
     "name": "stdout",
     "output_type": "stream",
     "text": [
      "[[(0, 1)], [(1, 1)], [(2, 1)], [(1, 1)], [], [(3, 1)], [(4, 1)], [(5, 1)], [(2, 1)], [(4, 1)], [(6, 1)], [], [(4, 1)], [(5, 1)], [(7, 1)], [(8, 1)], [(5, 1)], [(4, 1)], [(4, 1)], [(6, 1)], [(8, 1)], [(5, 1)], [(7, 1)], [], [(8, 1)], [(5, 1)], [(2, 1)], [(4, 1)], [(6, 1)], [(5, 1)], [], [(9, 1)], [(8, 1)], [(5, 1)], [(2, 1)], [(4, 1)], [(6, 1)], [], [(10, 1)], [(11, 1)], [(10, 1)], [(12, 1)], [], [(7, 1)], [(13, 1)], [(13, 1)], [(7, 1)], [(14, 1)], [(4, 1)], [], [(15, 1)], [(16, 1)], [(15, 1)], [(17, 1)], [(1, 1)], [(8, 1)], [], [(15, 1)], [(1, 1)], [(18, 1)], [(1, 1)], [(6, 1)], [(1, 1)], [(19, 1)], [(18, 1)], [(2, 1)], [(6, 1)], [(1, 1)], [], [(8, 1)], [(5, 1)], [(0, 1)], [(8, 1)], [(1, 1)], [], [(8, 1)], [(5, 1)], [(2, 1)], [(4, 1)], [(6, 1)], [(5, 1)], [], [(1, 1)], [(20, 1)], [(20, 1)], [(6, 1)], [(4, 1)], [(5, 1)], [(2, 1)], [(8, 1)], [(3, 1)], [(4, 1)], [], [(15, 1)], [(8, 1)], [(5, 1)], [(8, 1)], [(15, 1)], [(16, 1)], [(15, 1)], [], [(3, 1)], [(16, 1)], [(6, 1)], [(6, 1)], [(4, 1)], [(5, 1)], [(2, 1)], [(14, 1)], [(21, 1)], [], [(20, 1)], [(16, 1)], [(6, 1)], [(19, 1)], [(16, 1)], [(8, 1)], [(5, 1)], [(7, 1)], [], [(17, 1)], [(1, 1)], [(3, 1)], [(18, 1)], [(4, 1)], [(14, 1)], [(13, 1)], [(6, 1)], [], [(15, 1)], [(1, 1)], [(19, 1)], [(2, 1)], [(4, 1)], [(6, 1)], [], [(20, 1)], [(18, 1)], [(0, 1)], [], [(0, 1)], [(4, 1)], [(7, 1)], [(6, 1)], [(4, 1)], [(4, 1)], [], [(3, 1)], [(13, 1)], [(15, 1)], [(20, 1)], [(16, 1)], [(2, 1)], [(4, 1)], [(6, 1)], [], [(19, 1)], [(3, 1)], [(8, 1)], [(4, 1)], [(5, 1)], [(3, 1)], [(4, 1)], [], [(6, 1)], [(4, 1)], [(14, 1)], [(1, 1)], [(2, 1)], [(4, 1)], [(0, 1)], [], [(2, 1)], [(4, 1)], [(3, 1)], [(18, 1)], [(5, 1)], [(8, 1)], [(3, 1)], [(1, 1)], [(14, 1)], [], [(22, 1)], [(8, 1)], [(4, 1)], [(14, 1)], [(0, 1)], [], [(4, 1)], [(23, 1)], [(20, 1)], [(4, 1)], [(6, 1)], [(8, 1)], [(4, 1)], [(5, 1)], [(3, 1)], [(4, 1)], [], [(8, 1)], [(5, 1)], [(19, 1)], [(2, 1)], [(1, 1)], [(14, 1)], [(14, 1)], [(8, 1)], [(5, 1)], [(7, 1)], [], [(5, 1)], [(4, 1)], [(2, 1)], [(9, 1)], [(13, 1)], [(6, 1)], [(24, 1)], [], [(14, 1)], [(8, 1)], [(5, 1)], [(16, 1)], [(23, 1)], [], [(19, 1)], [(21, 1)], [(19, 1)], [(2, 1)], [(4, 1)], [(15, 1)], [], [(1, 1)], [(17, 1)], [(8, 1)], [(14, 1)], [(8, 1)], [(2, 1)], [(21, 1)], [], [(3, 1)], [(13, 1)], [(15, 1)], [(15, 1)], [(16, 1)], [(5, 1)], [(8, 1)], [(3, 1)], [(1, 1)], [(2, 1)], [(4, 1)], [], [(4, 1)], [(5, 1)], [(7, 1)], [(14, 1)], [(8, 1)], [(19, 1)], [(18, 1)], [], [(22, 1)], [(14, 1)], [(16, 1)], [(4, 1)], [(5, 1)], [(2, 1)], [(14, 1)], [(21, 1)], [], [(1, 1)], [(20, 1)], [(20, 1)], [(14, 1)], [(21, 1)], [], [(20, 1)], [(14, 1)], [(4, 1)], [(1, 1)], [(19, 1)], [(4, 1)], [], [(3, 1)], [(13, 1)], [(15, 1)], [(20, 1)], [(14, 1)], [(4, 1)], [(2, 1)], [(4, 1)], [], [(1, 1)], [(20, 1)], [(20, 1)], [(14, 1)], [(8, 1)], [(3, 1)], [(1, 1)], [(2, 1)], [(8, 1)], [(13, 1)], [(5, 1)], [], [(25, 1)], [], [(10, 1)], [(11, 1)], [(10, 1)], [(12, 1)], [], [(9, 1)], [(8, 1)], [(5, 1)], [(2, 1)], [(4, 1)], [(6, 1)], [], [(8, 1)], [(5, 1)], [(2, 1)], [(4, 1)], [(6, 1)], [(5, 1)], [(19, 1)], [(18, 1)], [(8, 1)], [(20, 1)], [(19, 1)], [], [(19, 1)], [(2, 1)], [(1, 1)], [(6, 1)], [(2, 1)], [], [(22, 1)], [(4, 1)], [(17, 1)], [(6, 1)], [(16, 1)], [(1, 1)], [(6, 1)], [(21, 1)], [], [(10, 1)], [(11, 1)], [(10, 1)], [(12, 1)], [], [(9, 1)], [(4, 1)], [(4, 1)], [(24, 1)], [(19, 1)], [], [(0, 1)], [(16, 1)], [(6, 1)], [(1, 1)], [(2, 1)], [(8, 1)], [(13, 1)], [(5, 1)], [], [(8, 1)], [(5, 1)], [(2, 1)], [(4, 1)], [(6, 1)], [(5, 1)], [(19, 1)], [(18, 1)], [(8, 1)], [(20, 1)], [], [(8, 1)], [(5, 1)], [(2, 1)], [(4, 1)], [(5, 1)], [(0, 1)], [(4, 1)], [(0, 1)], [], [(19, 1)], [(2, 1)], [(16, 1)], [(0, 1)], [(4, 1)], [(5, 1)], [(2, 1)], [(19, 1)], [], [(20, 1)], [(16, 1)], [(6, 1)], [(19, 1)], [(16, 1)], [(8, 1)], [(5, 1)], [(7, 1)], [], [(22, 1)], [(8, 1)], [(5, 1)], [(1, 1)], [(14, 1)], [], [(21, 1)], [(4, 1)], [(1, 1)], [(6, 1)], [], [(17, 1)], [(1, 1)], [(3, 1)], [(18, 1)], [(4, 1)], [(14, 1)], [(13, 1)], [(6, 1)], [], [(15, 1)], [(1, 1)], [(19, 1)], [(2, 1)], [(4, 1)], [(6, 1)], [], [(0, 1)], [(16, 1)], [(1, 1)], [(14, 1)], [], [(0, 1)], [(4, 1)], [(7, 1)], [(6, 1)], [(4, 1)], [(4, 1)], [], [(20, 1)], [(6, 1)], [(13, 1)], [(7, 1)], [(6, 1)], [(1, 1)], [(15, 1)], [], [(3, 1)], [(13, 1)], [(15, 1)], [(20, 1)], [(16, 1)], [(2, 1)], [(4, 1)], [(6, 1)], [], [(19, 1)], [(3, 1)], [(8, 1)], [(4, 1)], [(5, 1)], [(3, 1)], [(4, 1)], [], [(6, 1)], [(4, 1)], [(14, 1)], [(1, 1)], [(2, 1)], [(4, 1)], [(0, 1)], [], [(22, 1)], [(8, 1)], [(4, 1)], [(14, 1)], [(0, 1)], [], [(7, 1)], [(6, 1)], [(1, 1)], [(0, 1)], [(16, 1)], [(1, 1)], [(2, 1)], [(4, 1)], [], [(10, 1)], [(11, 1)], [(10, 1)], [(12, 1)], [], [(19, 1)], [(2, 1)], [(1, 1)], [(6, 1)], [(2, 1)], [], [(1, 1)], [(20, 1)], [(20, 1)], [(14, 1)], [(8, 1)], [(3, 1)], [(1, 1)], [(2, 1)], [(8, 1)], [(13, 1)], [(5, 1)], [], [(20, 1)], [(6, 1)], [(13, 1)], [(3, 1)], [(4, 1)], [(19, 1)], [(19, 1)], [], [(5, 1)], [(4, 1)], [(4, 1)], [(0, 1)], [], [(16, 1)], [(20, 1)], [(0, 1)], [(1, 1)], [(2, 1)], [(4, 1)], [(0, 1)], [], [(3, 1)], [(26, 1)], [], [(6, 1)], [(4, 1)], [(19, 1)], [(16, 1)], [(15, 1)], [(4, 1)], [], [(3, 1)], [(16, 1)], [(6, 1)], [(6, 1)], [(4, 1)], [(5, 1)], [(2, 1)], [], [(16, 1)], [(5, 1)], [(13, 1)], [(22, 1)], [(22, 1)], [(8, 1)], [(3, 1)], [(8, 1)], [(1, 1)], [(14, 1)], [], [(13, 1)], [(22, 1)], [(22, 1)], [(8, 1)], [(3, 1)], [(8, 1)], [(1, 1)], [(14, 1)], [], [(2, 1)], [(6, 1)], [(1, 1)], [(5, 1)], [(19, 1)], [(3, 1)], [(6, 1)], [(8, 1)], [(20, 1)], [(2, 1)], [], [(4, 1)], [(5, 1)], [(7, 1)], [(14, 1)], [(8, 1)], [(19, 1)], [(18, 1)], [], [(3, 1)], [(14, 1)], [(8, 1)], [(3, 1)], [(24, 1)], [], [(1, 1)], [(20, 1)], [(20, 1)], [(14, 1)], [(21, 1)], [], [(17, 1)], [(16, 1)], [(2, 1)], [(2, 1)], [(13, 1)], [(5, 1)], [], [(20, 1)], [(1, 1)], [(7, 1)], [(4, 1)], [], [(20, 1)], [(6, 1)], [(13, 1)], [(26, 1)], [(8, 1)], [(0, 1)], [(4, 1)], [], [(6, 1)], [(4, 1)], [(27, 1)], [(16, 1)], [(8, 1)], [(6, 1)], [(4, 1)], [(0, 1)], [], [(15, 1)], [(1, 1)], [(2, 1)], [(4, 1)], [(6, 1)], [(8, 1)], [(1, 1)], [(14, 1)], [(19, 1)], [], [(1, 1)], [(20, 1)], [(20, 1)], [(6, 1)], [(13, 1)], [(20, 1)], [(6, 1)], [(8, 1)], [(1, 1)], [(2, 1)], [(4, 1)], [], [(19, 1)], [(4, 1)], [(3, 1)], [(2, 1)], [(8, 1)], [(13, 1)], [(5, 1)], [(19, 1)], [], [(20, 1)], [(0, 1)], [(22, 1)], [(19, 1)], [], [(20, 1)], [(6, 1)], [(4, 1)], [(22, 1)], [(4, 1)], [(6, 1)], [(6, 1)], [(4, 1)], [(0, 1)], [], [(28, 1)], [], [(6, 1)], [(4, 1)], [(19, 1)], [(16, 1)], [(15, 1)], [(4, 1)], [], [(19, 1)], [(4, 1)], [(3, 1)], [(2, 1)], [(8, 1)], [(13, 1)], [(5, 1)], [], [(1, 1)], [(2, 1)], [(2, 1)], [(1, 1)], [(3, 1)], [(18, 1)], [], [(16, 1)], [(20, 1)], [(0, 1)], [(1, 1)], [(2, 1)], [(4, 1)], [(0, 1)], [], [(3, 1)], [(26, 1)], [], [(6, 1)], [(4, 1)], [(19, 1)], [(16, 1)], [(15, 1)], [(4, 1)], [], [(20, 1)], [(14, 1)], [(4, 1)], [(1, 1)], [(19, 1)], [(4, 1)], [], [(4, 1)], [(5, 1)], [(19, 1)], [(16, 1)], [(6, 1)], [(4, 1)], [], [(14, 1)], [(8, 1)], [(19, 1)], [(2, 1)], [(4, 1)], [(0, 1)], [], [(1, 1)], [(5, 1)], [(2, 1)], [(8, 1)], [(3, 1)], [(8, 1)], [(20, 1)], [(1, 1)], [(2, 1)], [(4, 1)], [(0, 1)], [], [(7, 1)], [(6, 1)], [(1, 1)], [(0, 1)], [(16, 1)], [(1, 1)], [(2, 1)], [(8, 1)], [(13, 1)], [(5, 1)], [], [(0, 1)], [(1, 1)], [(2, 1)], [(4, 1)], [], [(20, 1)], [(6, 1)], [(13, 1)], [(22, 1)], [(8, 1)], [(3, 1)], [(8, 1)], [(4, 1)], [(5, 1)], [(3, 1)], [(21, 1)], [], [(19, 1)], [(2, 1)], [(1, 1)], [(2, 1)], [(8, 1)], [(19, 1)], [(2, 1)], [(8, 1)], [(3, 1)], [(1, 1)], [(14, 1)], [], [(19, 1)], [(13, 1)], [(22, 1)], [(2, 1)], [(9, 1)], [(1, 1)], [(6, 1)], [(4, 1)], [], [(0, 1)], [(1, 1)], [(2, 1)], [(1, 1)], [(17, 1)], [(1, 1)], [(19, 1)], [(4, 1)], [], [(14, 1)], [(1, 1)], [(5, 1)], [(7, 1)], [(16, 1)], [(1, 1)], [(7, 1)], [(4, 1)], [(19, 1)], [], [(6, 1)], [(4, 1)], [(19, 1)], [(16, 1)], [(15, 1)], [(4, 1)], [], [(1, 1)], [(14, 1)], [(13, 1)], [(5, 1)], [(7, 1)], [], [(2, 1)], [(4, 1)], [(3, 1)], [(18, 1)], [(5, 1)], [(8, 1)], [(3, 1)], [(1, 1)], [(14, 1)], [], [(4, 1)], [(23, 1)], [(20, 1)], [(4, 1)], [(6, 1)], [(8, 1)], [(4, 1)], [(5, 1)], [(3, 1)], [(4, 1)], [], [(20, 1)], [(6, 1)], [(13, 1)], [(29, 1)], [(4, 1)], [(3, 1)], [(2, 1)], [(19, 1)], [], [(10, 1)], [], [(4, 1)], [(0, 1)], [(16, 1)], [(3, 1)], [(1, 1)], [(2, 1)], [(8, 1)], [(13, 1)], [(5, 1)], [], [(19, 1)], [(4, 1)], [(3, 1)], [(2, 1)], [(8, 1)], [(13, 1)], [(5, 1)], [], [(1, 1)], [(2, 1)], [(2, 1)], [(1, 1)], [(3, 1)], [(18, 1)], [], [(3, 1)], [(16, 1)], [(6, 1)], [(6, 1)], [(4, 1)], [(5, 1)], [(2, 1)], [], [(6, 1)], [(4, 1)], [(3, 1)], [(4, 1)], [(5, 1)], [(2, 1)], [], [(16, 1)], [(5, 1)], [(13, 1)], [(22, 1)], [(22, 1)], [(8, 1)], [(3, 1)], [(8, 1)], [(1, 1)], [(14, 1)], [], [(13, 1)], [(22, 1)], [(22, 1)], [(8, 1)], [(3, 1)], [(8, 1)], [(1, 1)], [(14, 1)], [], [(2, 1)], [(6, 1)], [(1, 1)], [(5, 1)], [(19, 1)], [(3, 1)], [(6, 1)], [(8, 1)], [(20, 1)], [(2, 1)], [], [(4, 1)], [(5, 1)], [(7, 1)], [(14, 1)], [(8, 1)], [(19, 1)], [(18, 1)], [], [(0, 1)], [(4, 1)], [(7, 1)], [(6, 1)], [(4, 1)], [(4, 1)], [], [(19, 1)], [(2, 1)], [(1, 1)], [(2, 1)], [(16, 1)], [(19, 1)], [], [(19, 1)], [(4, 1)], [(14, 1)], [(4, 1)], [(3, 1)], [(2, 1)], [], [(1, 1)], [(2, 1)], [(2, 1)], [(4, 1)], [(5, 1)], [(0, 1)], [(8, 1)], [(5, 1)], [(7, 1)], [], [(16, 1)], [(20, 1)], [(14, 1)], [(13, 1)], [(1, 1)], [(0, 1)], [], [(2, 1)], [(6, 1)], [(1, 1)], [(5, 1)], [(19, 1)], [(3, 1)], [(6, 1)], [(8, 1)], [(20, 1)], [(2, 1)], [], [(17, 1)], [(1, 1)], [(3, 1)], [(24, 1)], [], [(29, 1)], [(13, 1)], [(17, 1)], [(19, 1)], [], [(19, 1)], [(4, 1)], [(1, 1)], [(6, 1)], [(3, 1)], [(18, 1)], [], [(20, 1)], [(6, 1)], [(4, 1)], [(22, 1)], [(4, 1)], [(6, 1)], [(6, 1)], [(4, 1)], [(0, 1)], [], [(22, 1)], [(1, 1)], [(15, 1)], [(8, 1)], [(14, 1)], [(8, 1)], [(1, 1)], [(6, 1)], [(8, 1)], [(2, 1)], [(21, 1)], [], [(17, 1)], [(1, 1)], [(19, 1)], [(8, 1)], [(3, 1)], [], [(3, 1)], [(13, 1)], [(5, 1)], [(3, 1)], [(4, 1)], [(20, 1)], [(2, 1)], [(19, 1)], [], [(5, 1)], [(4, 1)], [(2, 1)], [(9, 1)], [(13, 1)], [(6, 1)], [(24, 1)], [], [(14, 1)], [(8, 1)], [(5, 1)], [(16, 1)], [(23, 1)], [], [(19, 1)], [(21, 1)], [(19, 1)], [(2, 1)], [(4, 1)], [(15, 1)], [(19, 1)], [], [(1, 1)], [(17, 1)], [(8, 1)], [(14, 1)], [(8, 1)], [(2, 1)], [(21, 1)], [], [(16, 1)], [(5, 1)], [(0, 1)], [(4, 1)], [(6, 1)], [(19, 1)], [(2, 1)], [(1, 1)], [(5, 1)], [(0, 1)], [], [(0, 1)], [(4, 1)], [(26, 1)], [(4, 1)], [(14, 1)], [(13, 1)], [(20, 1)], [], [(0, 1)], [(1, 1)], [(2, 1)], [(1, 1)], [], [(3, 1)], [(4, 1)], [(5, 1)], [(2, 1)], [(4, 1)], [(6, 1)], [], [(1, 1)], [(6, 1)], [(3, 1)], [(18, 1)], [(8, 1)], [(2, 1)], [(4, 1)], [(3, 1)], [(2, 1)], [(16, 1)], [(6, 1)], [(4, 1)], [(19, 1)], [], [(20, 1)], [(6, 1)], [(13, 1)], [(0, 1)], [(16, 1)], [(3, 1)], [(2, 1)], [(19, 1)], [], [(19, 1)], [(21, 1)], [(19, 1)], [(2, 1)], [(4, 1)], [(15, 1)], [], [(0, 1)], [(4, 1)], [(19, 1)], [(8, 1)], [(7, 1)], [(5, 1)], [], [(13, 1)], [(20, 1)], [(4, 1)], [(6, 1)], [(1, 1)], [(2, 1)], [(8, 1)], [(13, 1)], [(5, 1)], [(19, 1)], [], [(15, 1)], [(1, 1)], [(8, 1)], [(5, 1)], [(2, 1)], [(4, 1)], [(5, 1)], [(1, 1)], [(5, 1)], [(3, 1)], [(4, 1)], [], [(20, 1)], [(6, 1)], [(13, 1)], [(3, 1)], [(4, 1)], [(0, 1)], [(16, 1)], [(6, 1)], [(4, 1)], [(19, 1)], [], [(4, 1)], [(23, 1)], [(3, 1)], [(4, 1)], [(14, 1)], [(14, 1)], [(4, 1)], [(5, 1)], [(2, 1)], [], [(20, 1)], [(6, 1)], [(13, 1)], [(17, 1)], [(14, 1)], [(4, 1)], [(15, 1)], [], [(19, 1)], [(13, 1)], [(14, 1)], [(26, 1)], [(8, 1)], [(5, 1)], [(7, 1)], [], [(19, 1)], [(24, 1)], [(8, 1)], [(14, 1)], [(14, 1)], [(19, 1)], [], [(1, 1)], [(17, 1)], [(8, 1)], [(14, 1)], [(8, 1)], [(2, 1)], [(21, 1)], [], [(16, 1)], [(19, 1)], [(4, 1)], [], [(2, 1)], [(13, 1)], [(13, 1)], [(14, 1)], [(19, 1)], [], [(20, 1)], [(6, 1)], [(13, 1)], [(0, 1)], [(16, 1)], [(3, 1)], [(4, 1)], [], [(18, 1)], [(8, 1)], [(7, 1)], [(18, 1)], [(14, 1)], [(21, 1)], [], [(1, 1)], [(3, 1)], [(3, 1)], [(16, 1)], [(6, 1)], [(1, 1)], [(2, 1)], [(4, 1)], [], [(1, 1)], [(5, 1)], [(1, 1)], [(14, 1)], [(21, 1)], [(19, 1)], [(4, 1)], [(19, 1)], [], [(4, 1)], [(5, 1)], [(19, 1)], [(16, 1)], [(6, 1)], [(4, 1)], [], [(0, 1)], [(4, 1)], [(19, 1)], [(8, 1)], [(7, 1)], [(5, 1)], [(19, 1)], [], [(19, 1)], [(1, 1)], [(2, 1)], [(8, 1)], [(19, 1)], [(22, 1)], [(21, 1)], [], [(19, 1)], [(1, 1)], [(22, 1)], [(4, 1)], [(2, 1)], [(21, 1)], [], [(6, 1)], [(4, 1)], [(27, 1)], [(16, 1)], [(8, 1)], [(6, 1)], [(4, 1)], [(15, 1)], [(4, 1)], [(5, 1)], [(2, 1)], [(19, 1)], [], [(1, 1)], [(26, 1)], [(1, 1)], [(8, 1)], [(14, 1)], [(1, 1)], [(17, 1)], [(14, 1)], [(4, 1)], [], [(9, 1)], [(13, 1)], [(6, 1)], [(24, 1)], [], [(22, 1)], [(16, 1)], [(14, 1)], [(14, 1)], [], [(2, 1)], [(8, 1)], [(15, 1)], [(4, 1)], [], [(15, 1)], [(8, 1)], [(5, 1)], [(8, 1)], [(15, 1)], [(16, 1)], [(15, 1)], [], [(30, 1)], [], [(15, 1)], [(13, 1)], [(5, 1)], [(2, 1)], [(18, 1)], [(19, 1)], [], [(13, 1)], [(16, 1)], [(2, 1)], [(19, 1)], [(8, 1)], [(0, 1)], [(4, 1)], [], [(16, 1)], [(5, 1)], [(8, 1)], [(26, 1)], [(4, 1)], [(6, 1)], [(19, 1)], [(8, 1)], [(2, 1)], [(21, 1)], [], [(2, 1)], [(4, 1)], [(6, 1)], [(15, 1)], [], [(2, 1)], [(8, 1)], [(15, 1)], [(4, 1)], [], [(29, 1)], [(13, 1)], [(17, 1)], [], [(17, 1)], [(4, 1)], [(18, 1)], [(8, 1)], [(5, 1)], [(0, 1)], [], [(7, 1)], [(13, 1)], [(13, 1)], [(7, 1)], [(14, 1)], [(4, 1)], [], [(19, 1)], [(8, 1)], [(15, 1)], [(20, 1)], [(14, 1)], [(4, 1)], [], [(19, 1)], [(4, 1)], [(1, 1)], [(6, 1)], [(3, 1)], [(18, 1)], [], [(17, 1)], [(13, 1)], [(23, 1)], [], [(13, 1)], [(5, 1)], [(4, 1)], [], [(3, 1)], [(13, 1)], [(15, 1)], [(20, 1)], [(14, 1)], [(4, 1)], [(23, 1)], [], [(2, 1)], [(4, 1)], [(3, 1)], [(18, 1)], [(5, 1)], [(13, 1)], [(14, 1)], [(13, 1)], [(7, 1)], [(21, 1)], [], [(8, 1)], [(5, 1)], [(22, 1)], [(6, 1)], [(1, 1)], [(19, 1)], [(2, 1)], [(6, 1)], [(16, 1)], [(3, 1)], [(2, 1)], [(16, 1)], [(6, 1)], [(4, 1)], [(19, 1)], [], [(9, 1)], [(13, 1)], [(6, 1)], [(14, 1)], [(0, 1)], [], [(17, 1)], [(4, 1)], [(18, 1)], [(8, 1)], [(5, 1)], [(0, 1)], [], [(8, 1)], [(5, 1)], [(22, 1)], [(6, 1)], [(1, 1)], [(19, 1)], [(2, 1)], [(6, 1)], [(16, 1)], [(3, 1)], [(2, 1)], [(16, 1)], [(6, 1)], [(4, 1)], [], [(0, 1)], [(8, 1)], [(26, 1)], [(4, 1)], [(6, 1)], [(19, 1)], [(4, 1)], [], [(7, 1)], [(6, 1)], [(13, 1)], [(16, 1)], [(20, 1)], [], [(7, 1)], [(13, 1)], [(13, 1)], [(7, 1)], [(14, 1)], [(4, 1)], [(6, 1)], [(19, 1)], [], [(0, 1)], [(4, 1)], [(19, 1)], [(8, 1)], [(7, 1)], [(5, 1)], [], [(17, 1)], [(16, 1)], [(8, 1)], [(14, 1)], [(0, 1)], [], [(24, 1)], [(4, 1)], [(4, 1)], [(20, 1)], [], [(14, 1)], [(8, 1)], [(7, 1)], [(18, 1)], [(2, 1)], [(19, 1)], [], [(16, 1)], [(19, 1)], [(4, 1)], [(6, 1)], [(19, 1)], [], [(0, 1)], [(1, 1)], [(2, 1)], [(1, 1)], [], [(3, 1)], [(4, 1)], [(5, 1)], [(2, 1)], [(4, 1)], [(6, 1)], [], [(4, 1)], [(5, 1)], [(7, 1)], [(8, 1)], [(5, 1)], [(4, 1)], [(4, 1)], [(6, 1)], [(8, 1)], [(5, 1)], [(7, 1)], [], [(2, 1)], [(4, 1)], [(1, 1)], [(15, 1)], [], [(2, 1)], [(1, 1)], [(24, 1)], [(4, 1)], [(19, 1)], [], [(20, 1)], [(18, 1)], [(21, 1)], [(19, 1)], [(8, 1)], [(3, 1)], [(1, 1)], [(14, 1)], [], [(0, 1)], [(4, 1)], [(19, 1)], [(8, 1)], [(7, 1)], [(5, 1)], [], [(0, 1)], [(1, 1)], [(2, 1)], [(1, 1)], [], [(3, 1)], [(4, 1)], [(5, 1)], [(2, 1)], [(4, 1)], [(6, 1)], [(19, 1)], [], [(22, 1)], [(16, 1)], [(2, 1)], [(16, 1)], [(6, 1)], [(4, 1)], [], [(2, 1)], [(4, 1)], [(3, 1)], [(18, 1)], [(5, 1)], [(8, 1)], [(3, 1)], [(1, 1)], [(14, 1)], [], [(4, 1)], [(5, 1)], [(7, 1)], [(8, 1)], [(5, 1)], [(4, 1)], [(4, 1)], [(6, 1)], [(8, 1)], [(5, 1)], [(7, 1)], [], [(19, 1)], [(16, 1)], [(20, 1)], [(20, 1)], [(13, 1)], [(6, 1)], [(2, 1)], [], [(2, 1)], [(4, 1)], [(1, 1)], [(15, 1)], [(19, 1)], [], [(17, 1)], [(6, 1)], [(8, 1)], [(5, 1)], [(7, 1)], [], [(8, 1)], [(0, 1)], [(4, 1)], [(1, 1)], [(19, 1)], [], [(14, 1)], [(8, 1)], [(22, 1)], [(4, 1)], [], [(2, 1)], [(4, 1)], [(1, 1)], [(15, 1)], [(19, 1)], [], [(16, 1)], [(19, 1)], [(4, 1)], [], [(3, 1)], [(6, 1)], [(4, 1)], [(1, 1)], [(2, 1)], [(8, 1)], [(26, 1)], [(4, 1)], [], [(1, 1)], [(20, 1)], [(20, 1)], [(6, 1)], [(13, 1)], [(1, 1)], [(3, 1)], [(18, 1)], [(4, 1)], [(19, 1)], [], [(6, 1)], [(4, 1)], [(0, 1)], [(16, 1)], [(3, 1)], [(4, 1)], [], [(13, 1)], [(20, 1)], [(4, 1)], [(6, 1)], [(1, 1)], [(2, 1)], [(8, 1)], [(13, 1)], [(5, 1)], [(1, 1)], [(14, 1)], [], [(3, 1)], [(13, 1)], [(19, 1)], [(2, 1)], [(19, 1)], [], [(4, 1)], [(23, 1)], [(2, 1)], [(4, 1)], [(5, 1)], [(0, 1)], [], [(2, 1)], [(6, 1)], [(1, 1)], [(0, 1)], [(8, 1)], [(2, 1)], [(8, 1)], [(13, 1)], [(5, 1)], [(1, 1)], [(14, 1)], [], [(20, 1)], [(6, 1)], [(1, 1)], [(3, 1)], [(2, 1)], [(8, 1)], [(3, 1)], [(4, 1)], [(19, 1)], [], [(15, 1)], [(4, 1)], [(4, 1)], [(2, 1)], [], [(7, 1)], [(13, 1)], [(1, 1)], [(14, 1)], [], [(15, 1)], [(1, 1)], [(24, 1)], [(8, 1)], [(5, 1)], [(7, 1)], [], [(0, 1)], [(1, 1)], [(2, 1)], [(1, 1)], [], [(3, 1)], [(4, 1)], [(5, 1)], [(2, 1)], [(4, 1)], [(6, 1)], [(19, 1)], [], [(4, 1)], [(5, 1)], [(4, 1)], [(6, 1)], [(7, 1)], [(21, 1)], [], [(4, 1)], [(22, 1)], [(22, 1)], [(8, 1)], [(3, 1)], [(8, 1)], [(4, 1)], [(5, 1)], [(2, 1)], [], [(4, 1)], [(5, 1)], [(26, 1)], [(8, 1)], [(6, 1)], [(13, 1)], [(5, 1)], [(15, 1)], [(4, 1)], [(5, 1)], [(2, 1)], [(1, 1)], [(14, 1)], [(14, 1)], [(21, 1)], [], [(19, 1)], [(16, 1)], [(19, 1)], [(2, 1)], [(1, 1)], [(8, 1)], [(5, 1)], [(1, 1)], [(17, 1)], [(14, 1)], [(4, 1)], [], [(9, 1)], [(13, 1)], [(6, 1)], [(14, 1)], [(0, 1)], [], [(18, 1)], [(1, 1)], [(6, 1)], [(0, 1)], [(9, 1)], [(1, 1)], [(6, 1)], [(4, 1)], [], [(13, 1)], [(20, 1)], [(4, 1)], [(6, 1)], [(1, 1)], [(2, 1)], [(8, 1)], [(13, 1)], [(5, 1)], [(19, 1)], [], [(2, 1)], [(4, 1)], [(1, 1)], [(15, 1)], [], [(2, 1)], [(4, 1)], [(1, 1)], [(15, 1)], [], [(0, 1)], [(1, 1)], [(2, 1)], [(1, 1)], [], [(3, 1)], [(4, 1)], [(5, 1)], [(2, 1)], [(4, 1)], [(6, 1)], [], [(6, 1)], [(4, 1)], [(19, 1)], [(20, 1)], [(13, 1)], [(5, 1)], [(19, 1)], [(8, 1)], [(17, 1)], [(14, 1)], [(4, 1)], [], [(15, 1)], [(13, 1)], [(5, 1)], [(8, 1)], [(2, 1)], [(13, 1)], [(6, 1)], [(8, 1)], [(5, 1)], [(7, 1)], [], [(15, 1)], [(1, 1)], [(8, 1)], [(5, 1)], [(2, 1)], [(1, 1)], [(8, 1)], [(5, 1)], [(8, 1)], [(5, 1)], [(7, 1)], [], [(0, 1)], [(4, 1)], [(20, 1)], [(14, 1)], [(13, 1)], [(21, 1)], [(8, 1)], [(5, 1)], [(7, 1)], [], [(20, 1)], [(18, 1)], [(21, 1)], [(19, 1)], [(8, 1)], [(3, 1)], [(1, 1)], [(14, 1)], [], [(8, 1)], [(5, 1)], [(22, 1)], [(6, 1)], [(1, 1)], [(19, 1)], [(2, 1)], [(6, 1)], [(16, 1)], [(3, 1)], [(2, 1)], [(16, 1)], [(6, 1)], [(4, 1)], [], [(17, 1)], [(4, 1)], [(18, 1)], [(8, 1)], [(5, 1)], [(0, 1)], [], [(20, 1)], [(13, 1)], [(9, 1)], [(4, 1)], [(6, 1)], [(22, 1)], [(16, 1)], [(14, 1)], [], [(19, 1)], [(4, 1)], [(1, 1)], [(6, 1)], [(3, 1)], [(18, 1)], [], [(2, 1)], [(4, 1)], [(3, 1)], [(18, 1)], [(5, 1)], [(13, 1)], [(14, 1)], [(13, 1)], [(7, 1)], [(21, 1)], [], [(13, 1)], [(20, 1)], [(4, 1)], [(6, 1)], [(1, 1)], [(2, 1)], [(8, 1)], [(13, 1)], [(5, 1)], [(19, 1)], [], [(4, 1)], [(5, 1)], [(7, 1)], [(8, 1)], [(5, 1)], [(4, 1)], [(4, 1)], [(6, 1)], [(19, 1)], [], [(0, 1)], [(4, 1)], [(20, 1)], [(14, 1)], [(13, 1)], [(21, 1)], [], [(15, 1)], [(1, 1)], [(8, 1)], [(5, 1)], [(2, 1)], [(1, 1)], [(8, 1)], [(5, 1)], [], [(7, 1)], [(13, 1)], [(13, 1)], [(7, 1)], [(14, 1)], [(4, 1)], [], [(1, 1)], [(0, 1)], [(26, 1)], [(1, 1)], [(5, 1)], [(3, 1)], [(4, 1)], [(0, 1)], [], [(0, 1)], [(1, 1)], [(2, 1)], [(1, 1)], [], [(3, 1)], [(4, 1)], [(5, 1)], [(2, 1)], [(4, 1)], [(6, 1)], [], [(19, 1)], [(4, 1)], [(6, 1)], [(26, 1)], [(4, 1)], [(6, 1)], [], [(5, 1)], [(4, 1)], [(2, 1)], [(9, 1)], [(13, 1)], [(6, 1)], [(24, 1)], [], [(8, 1)], [(5, 1)], [(22, 1)], [(6, 1)], [(1, 1)], [(19, 1)], [(2, 1)], [(6, 1)], [(16, 1)], [(3, 1)], [(2, 1)], [(16, 1)], [(6, 1)], [(4, 1)], [], [(0, 1)], [(16, 1)], [(2, 1)], [(8, 1)], [(4, 1)], [(19, 1)], [], [(6, 1)], [(1, 1)], [(5, 1)], [(7, 1)], [(4, 1)], [], [(20, 1)], [(18, 1)], [(21, 1)], [(19, 1)], [(8, 1)], [(3, 1)], [(1, 1)], [(14, 1)], [], [(0, 1)], [(4, 1)], [(20, 1)], [(14, 1)], [(13, 1)], [(21, 1)], [(15, 1)], [(4, 1)], [(5, 1)], [(2, 1)], [], [(0, 1)], [(1, 1)], [(2, 1)], [(1, 1)], [], [(6, 1)], [(4, 1)], [(14, 1)], [(1, 1)], [(2, 1)], [(4, 1)], [(0, 1)], [], [(2, 1)], [(4, 1)], [(3, 1)], [(18, 1)], [(5, 1)], [(13, 1)], [(14, 1)], [(13, 1)], [(7, 1)], [(21, 1)], [], [(9, 1)], [(13, 1)], [(6, 1)], [(24, 1)], [(8, 1)], [(5, 1)], [(7, 1)], [], [(3, 1)], [(14, 1)], [(13, 1)], [(19, 1)], [(4, 1)], [(14, 1)], [(21, 1)], [], [(26, 1)], [(1, 1)], [(6, 1)], [(8, 1)], [(13, 1)], [(16, 1)], [(19, 1)], [], [(19, 1)], [(2, 1)], [(1, 1)], [(24, 1)], [(4, 1)], [(18, 1)], [(13, 1)], [(14, 1)], [(0, 1)], [(4, 1)], [(6, 1)], [(19, 1)], [], [(2, 1)], [(4, 1)], [(1, 1)], [(15, 1)], [], [(13, 1)], [(22, 1)], [(22, 1)], [(4, 1)], [(6, 1)], [(19, 1)], [], [(7, 1)], [(6, 1)], [(4, 1)], [(1, 1)], [(2, 1)], [], [(8, 1)], [(5, 1)], [(2, 1)], [(6, 1)], [(13, 1)], [(0, 1)], [(16, 1)], [(3, 1)], [(2, 1)], [(8, 1)], [(13, 1)], [(5, 1)], [], [(9, 1)], [(8, 1)], [(0, 1)], [(4, 1)], [(6, 1)], [], [(4, 1)], [(5, 1)], [(7, 1)], [(8, 1)], [(5, 1)], [(4, 1)], [(4, 1)], [(6, 1)], [(8, 1)], [(5, 1)], [(7, 1)], [], [(9, 1)], [(13, 1)], [(6, 1)], [(14, 1)], [(0, 1)], [], [(7, 1)], [(13, 1)], [(13, 1)], [(7, 1)], [(14, 1)], [(4, 1)], [], [(7, 1)], [(13, 1)], [(13, 1)], [(7, 1)], [(14, 1)], [(4, 1)], [], [(1, 1)], [(14, 1)], [(9, 1)], [(1, 1)], [(21, 1)], [(19, 1)], [], [(4, 1)], [(5, 1)], [(7, 1)], [(8, 1)], [(5, 1)], [(4, 1)], [(4, 1)], [(6, 1)], [(8, 1)], [(5, 1)], [(7, 1)], [], [(3, 1)], [(13, 1)], [(15, 1)], [(20, 1)], [(1, 1)], [(5, 1)], [(21, 1)], [], [(18, 1)], [(8, 1)], [(6, 1)], [(4, 1)], [], [(20, 1)], [(4, 1)], [(13, 1)], [(20, 1)], [(14, 1)], [(4, 1)], [], [(17, 1)], [(6, 1)], [(13, 1)], [(1, 1)], [(0, 1)], [], [(19, 1)], [(4, 1)], [(2, 1)], [], [(2, 1)], [(4, 1)], [(3, 1)], [(18, 1)], [(5, 1)], [(8, 1)], [(3, 1)], [(1, 1)], [(14, 1)], [], [(19, 1)], [(24, 1)], [(8, 1)], [(14, 1)], [(14, 1)], [(19, 1)], [], [(6, 1)], [(4, 1)], [(1, 1)], [(0, 1)], [(21, 1)], [], [(1, 1)], [(0, 1)], [(0, 1)], [(6, 1)], [(4, 1)], [(19, 1)], [(19, 1)], [], [(2, 1)], [(4, 1)], [(3, 1)], [(18, 1)], [(5, 1)], [(13, 1)], [(14, 1)], [(13, 1)], [(7, 1)], [(21, 1)], [], [(7, 1)], [(6, 1)], [(4, 1)], [(1, 1)], [(2, 1)], [(4, 1)], [(19, 1)], [(2, 1)], [], [(3, 1)], [(18, 1)], [(1, 1)], [(14, 1)], [(14, 1)], [(4, 1)], [(5, 1)], [(7, 1)], [(4, 1)], [(19, 1)], [], [(15, 1)], [(1, 1)], [(24, 1)], [(4, 1)], [], [(8, 1)], [(15, 1)], [(20, 1)], [(1, 1)], [(3, 1)], [(2, 1)], [], [(15, 1)], [(8, 1)], [(14, 1)], [(14, 1)], [(8, 1)], [(13, 1)], [(5, 1)], [(19, 1)], [], [(17, 1)], [(8, 1)], [(14, 1)], [(14, 1)], [(8, 1)], [(13, 1)], [(5, 1)], [(19, 1)], [], [(16, 1)], [(19, 1)], [(4, 1)], [(6, 1)], [(19, 1)], [], [(7, 1)], [(13, 1)], [(13, 1)], [(7, 1)], [(14, 1)], [(4, 1)], [], [(4, 1)], [(5, 1)], [(7, 1)], [(8, 1)], [(5, 1)], [(4, 1)], [(4, 1)], [(6, 1)], [(19, 1)], [], [(6, 1)], [(4, 1)], [(26, 1)], [(13, 1)], [(14, 1)], [(16, 1)], [(2, 1)], [(8, 1)], [(13, 1)], [(5, 1)], [(8, 1)], [(31, 1)], [(4, 1)], [], [(19, 1)], [(4, 1)], [(1, 1)], [(6, 1)], [(3, 1)], [(18, 1)], [], [(6, 1)], [(13, 1)], [(16, 1)], [(2, 1)], [(8, 1)], [(5, 1)], [(4, 1)], [(14, 1)], [(21, 1)], [], [(9, 1)], [(13, 1)], [(6, 1)], [(24, 1)], [], [(15, 1)], [(1, 1)], [(19, 1)], [(19, 1)], [(8, 1)], [(26, 1)], [(4, 1)], [], [(19, 1)], [(3, 1)], [(1, 1)], [(14, 1)], [(1, 1)], [(17, 1)], [(8, 1)], [(14, 1)], [(8, 1)], [(2, 1)], [(21, 1)], [], [(19, 1)], [(2, 1)], [(13, 1)], [(6, 1)], [(1, 1)], [(7, 1)], [(4, 1)], [], [(19, 1)], [(13, 1)], [(14, 1)], [(16, 1)], [(2, 1)], [(8, 1)], [(13, 1)], [(5, 1)], [(19, 1)], [], [(1, 1)], [(20, 1)], [(20, 1)], [(14, 1)], [(8, 1)], [(3, 1)], [(1, 1)], [(2, 1)], [(8, 1)], [(13, 1)], [(5, 1)], [(19, 1)], [], [(4, 1)], [(5, 1)], [(2, 1)], [(8, 1)], [(6, 1)], [(4, 1)], [(14, 1)], [(21, 1)], [], [(5, 1)], [(4, 1)], [(9, 1)], [], [(20, 1)], [(14, 1)], [(1, 1)], [(2, 1)], [(22, 1)], [(13, 1)], [(6, 1)], [(15, 1)], [(19, 1)], [], [(0, 1)], [(4, 1)], [(26, 1)], [(4, 1)], [(14, 1)], [(13, 1)], [(20, 1)], [(4, 1)], [(6, 1)], [(19, 1)], [], [(1, 1)], [(6, 1)], [(13, 1)], [(16, 1)], [(5, 1)], [(0, 1)], [], [(9, 1)], [(13, 1)], [(6, 1)], [(14, 1)], [(0, 1)], [], [(7, 1)], [(13, 1)], [(13, 1)], [(7, 1)], [(14, 1)], [(4, 1)], [], [(1, 1)], [(0, 1)], [(19, 1)], [], [(3, 1)], [(18, 1)], [(6, 1)], [(13, 1)], [(15, 1)], [(4, 1)], [], [(1, 1)], [(5, 1)], [(0, 1)], [(6, 1)], [(13, 1)], [(8, 1)], [(0, 1)], [], [(21, 1)], [(13, 1)], [(16, 1)], [(2, 1)], [(16, 1)], [(17, 1)], [(4, 1)], [], [(19, 1)], [(13, 1)], [(3, 1)], [(8, 1)], [(1, 1)], [(14, 1)], [], [(14, 1)], [(13, 1)], [(3, 1)], [(1, 1)], [(14, 1)], [], [(7, 1)], [(13, 1)], [(13, 1)], [(7, 1)], [(14, 1)], [(4, 1)], [], [(4, 1)], [(5, 1)], [(7, 1)], [(8, 1)], [(5, 1)], [(4, 1)], [(4, 1)], [(6, 1)], [(19, 1)], [], [(3, 1)], [(18, 1)], [(1, 1)], [(5, 1)], [(7, 1)], [(8, 1)], [(5, 1)], [(7, 1)], [], [(9, 1)], [(13, 1)], [(6, 1)], [(14, 1)], [(0, 1)], [], [(13, 1)], [(5, 1)], [(4, 1)], [], [(2, 1)], [(4, 1)], [(3, 1)], [(18, 1)], [(5, 1)], [(13, 1)], [(14, 1)], [(13, 1)], [(7, 1)], [(8, 1)], [(3, 1)], [(1, 1)], [(14, 1)], [], [(1, 1)], [(3, 1)], [(18, 1)], [(8, 1)], [(4, 1)], [(26, 1)], [(4, 1)], [(15, 1)], [(4, 1)], [(5, 1)], [(2, 1)], [], [(1, 1)], [(5, 1)], [(13, 1)], [(2, 1)], [(18, 1)], [(4, 1)], [(6, 1)], [], [(6, 1)], [(4, 1)], [(19, 1)], [(20, 1)], [(13, 1)], [(5, 1)], [(19, 1)], [(8, 1)], [(17, 1)], [(8, 1)], [(14, 1)], [(8, 1)], [(2, 1)], [(8, 1)], [(4, 1)], [(19, 1)], [], [(3, 1)], [(13, 1)], [(5, 1)], [(2, 1)], [(6, 1)], [(8, 1)], [(17, 1)], [(16, 1)], [(2, 1)], [(4, 1)], [], [(6, 1)], [(4, 1)], [(20, 1)], [(1, 1)], [(8, 1)], [(6, 1)], [(19, 1)], [], [(16, 1)], [(20, 1)], [(7, 1)], [(6, 1)], [(1, 1)], [(0, 1)], [(4, 1)], [(19, 1)], [], [(0, 1)], [(4, 1)], [(20, 1)], [(14, 1)], [(13, 1)], [(21, 1)], [(15, 1)], [(4, 1)], [(5, 1)], [(2, 1)], [(19, 1)], [], [(3, 1)], [(1, 1)], [(17, 1)], [(14, 1)], [(8, 1)], [(5, 1)], [(7, 1)], [], [(8, 1)], [(0, 1)], [(4, 1)], [(5, 1)], [(2, 1)], [(8, 1)], [(22, 1)], [(21, 1)], [], [(2, 1)], [(6, 1)], [(4, 1)], [(5, 1)], [(0, 1)], [(19, 1)], [], [(15, 1)], [(1, 1)], [(3, 1)], [(18, 1)], [(8, 1)], [(5, 1)], [(4, 1)], [], [(22, 1)], [(1, 1)], [(8, 1)], [(14, 1)], [(16, 1)], [(6, 1)], [(4, 1)], [], [(6, 1)], [(4, 1)], [(20, 1)], [(13, 1)], [(6, 1)], [(2, 1)], [], [(17, 1)], [(16, 1)], [(7, 1)], [(19, 1)], [], [(9, 1)], [(13, 1)], [(6, 1)], [(24, 1)], [], [(6, 1)], [(4, 1)], [(15, 1)], [(13, 1)], [(2, 1)], [(4, 1)], [], [(2, 1)], [(4, 1)], [(1, 1)], [(15, 1)], [(19, 1)], [], [(6, 1)], [(4, 1)], [(19, 1)], [(13, 1)], [(14, 1)], [(26, 1)], [(4, 1)], [], [(3, 1)], [(13, 1)], [(15, 1)], [(15, 1)], [(16, 1)], [(5, 1)], [(8, 1)], [(3, 1)], [(1, 1)], [(2, 1)], [(4, 1)], [], [(4, 1)], [(22, 1)], [(22, 1)], [(4, 1)], [(3, 1)], [(2, 1)], [(8, 1)], [(26, 1)], [(4, 1)], [(14, 1)], [(21, 1)], [], [(3, 1)], [(14, 1)], [(8, 1)], [(4, 1)], [(5, 1)], [(2, 1)], [(19, 1)], [], [(20, 1)], [(1, 1)], [(6, 1)], [(2, 1)], [(5, 1)], [(4, 1)], [(6, 1)], [(19, 1)], [], [(3, 1)], [(13, 1)], [(5, 1)], [(2, 1)], [(6, 1)], [(8, 1)], [(17, 1)], [(16, 1)], [(2, 1)], [(4, 1)], [], [(20, 1)], [(6, 1)], [(13, 1)], [(29, 1)], [(4, 1)], [(3, 1)], [(2, 1)], [(19, 1)], [], [(0, 1)], [(4, 1)], [(20, 1)], [(14, 1)], [(13, 1)], [(21, 1)], [(15, 1)], [(4, 1)], [(5, 1)], [(2, 1)], [], [(15, 1)], [(1, 1)], [(8, 1)], [(5, 1)], [(2, 1)], [(4, 1)], [(5, 1)], [(1, 1)], [(5, 1)], [(3, 1)], [(4, 1)], [], [(20, 1)], [(6, 1)], [(13, 1)], [(26, 1)], [(8, 1)], [(0, 1)], [(4, 1)], [], [(19, 1)], [(16, 1)], [(20, 1)], [(20, 1)], [(13, 1)], [(6, 1)], [(2, 1)], [], [(3, 1)], [(16, 1)], [(6, 1)], [(6, 1)], [(4, 1)], [(5, 1)], [(2, 1)], [], [(5, 1)], [(4, 1)], [(9, 1)], [], [(0, 1)], [(1, 1)], [(2, 1)], [(1, 1)], [], [(3, 1)], [(4, 1)], [(5, 1)], [(2, 1)], [(4, 1)], [(6, 1)], [], [(8, 1)], [(5, 1)], [(22, 1)], [(6, 1)], [(1, 1)], [(19, 1)], [(2, 1)], [(6, 1)], [(16, 1)], [(3, 1)], [(2, 1)], [(16, 1)], [(6, 1)], [(4, 1)], [], [(3, 1)], [(13, 1)], [(5, 1)], [(22, 1)], [(8, 1)], [(7, 1)], [(16, 1)], [(6, 1)], [(4, 1)], [], [(2, 1)], [(6, 1)], [(13, 1)], [(16, 1)], [(17, 1)], [(14, 1)], [(4, 1)], [(19, 1)], [(18, 1)], [(13, 1)], [(13, 1)], [(2, 1)], [], [(14, 1)], [(8, 1)], [(5, 1)], [(16, 1)], [(23, 1)], [], [(3, 1)], [(18, 1)], [(1, 1)], [(14, 1)], [(14, 1)], [(4, 1)], [(5, 1)], [(7, 1)], [(4, 1)], [(19, 1)], [], [(19, 1)], [(4, 1)], [(6, 1)], [(26, 1)], [(4, 1)], [(6, 1)], [(19, 1)], [], [(6, 1)], [(4, 1)], [(19, 1)], [(13, 1)], [(14, 1)], [(26, 1)], [(4, 1)], [], [(3, 1)], [(6, 1)], [(8, 1)], [(2, 1)], [(8, 1)], [(3, 1)], [(1, 1)], [(14, 1)], [], [(4, 1)], [(19, 1)], [(3, 1)], [(1, 1)], [(14, 1)], [(1, 1)], [(2, 1)], [(4, 1)], [(0, 1)], [], [(2, 1)], [(4, 1)], [(3, 1)], [(18, 1)], [(5, 1)], [(8, 1)], [(3, 1)], [(1, 1)], [(14, 1)], [], [(3, 1)], [(18, 1)], [(1, 1)], [(14, 1)], [(14, 1)], [(4, 1)], [(5, 1)], [(7, 1)], [(4, 1)], [(19, 1)], [], [(19, 1)], [(8, 1)], [(7, 1)], [(5, 1)], [(8, 1)], [(22, 1)], [(8, 1)], [(3, 1)], [(1, 1)], [(5, 1)], [(2, 1)], [], [(20, 1)], [(13, 1)], [(20, 1)], [(16, 1)], [(14, 1)], [(1, 1)], [(2, 1)], [(8, 1)], [(13, 1)], [(5, 1)], [], [(1, 1)], [(22, 1)], [(22, 1)], [(4, 1)], [(3, 1)], [(2, 1)], [(4, 1)], [(0, 1)], [], [(4, 1)], [(27, 1)], [(16, 1)], [(8, 1)], [(20, 1)], [(15, 1)], [(4, 1)], [(5, 1)], [(2, 1)], [], [(8, 1)], [(5, 1)], [(22, 1)], [(13, 1)], [(6, 1)], [(15, 1)], [(1, 1)], [(2, 1)], [(8, 1)], [(13, 1)], [(5, 1)], [], [(3, 1)], [(13, 1)], [(14, 1)], [(14, 1)], [(4, 1)], [(3, 1)], [(2, 1)], [(4, 1)], [(0, 1)], [], [(20, 1)], [(6, 1)], [(13, 1)], [(3, 1)], [(4, 1)], [(19, 1)], [(19, 1)], [(4, 1)], [(0, 1)], [], [(20, 1)], [(1, 1)], [(6, 1)], [(2, 1)], [], [(7, 1)], [(13, 1)], [(13, 1)], [(7, 1)], [(14, 1)], [(4, 1)], [], [(3, 1)], [(1, 1)], [(6, 1)], [(4, 1)], [(4, 1)], [(6, 1)], [(19, 1)], [], [(20, 1)], [(6, 1)], [(13, 1)], [(22, 1)], [(8, 1)], [(14, 1)], [(4, 1)], [], [(29, 1)], [(13, 1)], [(17, 1)], [], [(1, 1)], [(20, 1)], [(20, 1)], [(14, 1)], [(8, 1)], [(3, 1)], [(1, 1)], [(2, 1)], [(8, 1)], [(13, 1)], [(5, 1)], [(19, 1)], [], [(3, 1)], [(18, 1)], [(13, 1)], [(13, 1)], [(19, 1)], [(4, 1)], [], [(19, 1)], [(16, 1)], [(17, 1)], [(15, 1)], [(8, 1)], [(2, 1)], [], [(19, 1)], [(16, 1)], [(17, 1)], [(29, 1)], [(4, 1)], [(3, 1)], [(2, 1)], [], [(7, 1)], [(13, 1)], [(13, 1)], [(7, 1)], [(14, 1)], [(4, 1)], [], [(1, 1)], [(20, 1)], [(20, 1)], [(14, 1)], [(8, 1)], [(3, 1)], [(1, 1)], [(5, 1)], [(2, 1)], [], [(3, 1)], [(1, 1)], [(5, 1)], [(0, 1)], [(8, 1)], [(0, 1)], [(1, 1)], [(2, 1)], [(4, 1)], [], [(20, 1)], [(6, 1)], [(8, 1)], [(26, 1)], [(1, 1)], [(3, 1)], [(21, 1)], [], [(20, 1)], [(13, 1)], [(14, 1)], [(8, 1)], [(3, 1)], [(21, 1)], [], [(7, 1)], [(13, 1)], [(13, 1)], [(7, 1)], [(14, 1)], [(4, 1)], [], [(20, 1)], [(6, 1)], [(13, 1)], [(16, 1)], [(0, 1)], [], [(4, 1)], [(27, 1)], [(16, 1)], [(1, 1)], [(14, 1)], [], [(13, 1)], [(20, 1)], [(20, 1)], [(13, 1)], [(6, 1)], [(2, 1)], [(16, 1)], [(5, 1)], [(8, 1)], [(2, 1)], [(21, 1)], [], [(1, 1)], [(22, 1)], [(22, 1)], [(8, 1)], [(6, 1)], [(15, 1)], [(1, 1)], [(2, 1)], [(8, 1)], [(26, 1)], [(4, 1)], [], [(1, 1)], [(3, 1)], [(2, 1)], [(8, 1)], [(13, 1)], [(5, 1)], [], [(4, 1)], [(15, 1)], [(20, 1)], [(14, 1)], [(13, 1)], [(21, 1)], [(4, 1)], [(6, 1)], [], [(3, 1)], [(13, 1)], [(15, 1)], [(15, 1)], [(8, 1)], [(2, 1)], [(2, 1)], [(4, 1)], [(0, 1)], [], [(17, 1)], [(16, 1)], [(8, 1)], [(14, 1)], [(0, 1)], [(8, 1)], [(5, 1)], [(7, 1)], [], [(9, 1)], [(13, 1)], [(6, 1)], [(24, 1)], [(22, 1)], [(13, 1)], [(6, 1)], [(3, 1)], [(4, 1)], [], [(6, 1)], [(4, 1)], [(20, 1)], [(6, 1)], [(4, 1)], [(19, 1)], [(4, 1)], [(5, 1)], [(2, 1)], [(1, 1)], [(2, 1)], [(8, 1)], [(26, 1)], [(4, 1)], [], [(16, 1)], [(19, 1)], [(4, 1)], [(6, 1)], [(19, 1)], [], [(19, 1)], [(4, 1)], [(6, 1)], [(26, 1)], [(4, 1)], [], [(3, 1)], [(6, 1)], [(4, 1)], [(1, 1)], [(2, 1)], [(8, 1)], [(5, 1)], [(7, 1)], [], [(3, 1)], [(16, 1)], [(14, 1)], [(2, 1)], [(16, 1)], [(6, 1)], [(4, 1)], [], [(17, 1)], [(4, 1)], [(14, 1)], [(13, 1)], [(5, 1)], [(7, 1)], [(8, 1)], [(5, 1)], [(7, 1)], [], [(20, 1)], [(6, 1)], [(13, 1)], [(26, 1)], [(8, 1)], [(0, 1)], [(8, 1)], [(5, 1)], [(7, 1)], [], [(4, 1)], [(27, 1)], [(16, 1)], [(1, 1)], [(14, 1)], [], [(4, 1)], [(15, 1)], [(20, 1)], [(14, 1)], [(13, 1)], [(21, 1)], [(15, 1)], [(4, 1)], [(5, 1)], [(2, 1)], [], [(13, 1)], [(20, 1)], [(20, 1)], [(13, 1)], [(6, 1)], [(2, 1)], [(16, 1)], [(5, 1)], [(8, 1)], [(2, 1)], [(21, 1)], [], [(6, 1)], [(4, 1)], [(7, 1)], [(1, 1)], [(6, 1)], [(0, 1)], [(14, 1)], [(4, 1)], [(19, 1)], [(19, 1)], [], [(6, 1)], [(1, 1)], [(3, 1)], [(4, 1)], [], [(3, 1)], [(6, 1)], [(4, 1)], [(4, 1)], [(0, 1)], [], [(3, 1)], [(13, 1)], [(14, 1)], [(13, 1)], [(16, 1)], [(6, 1)], [], [(6, 1)], [(4, 1)], [(14, 1)], [(8, 1)], [(7, 1)], [(8, 1)], [(13, 1)], [(5, 1)], [], [(7, 1)], [(4, 1)], [(5, 1)], [(0, 1)], [(4, 1)], [(6, 1)], [], [(19, 1)], [(4, 1)], [(23, 1)], [(16, 1)], [(1, 1)], [(14, 1)], [], [(13, 1)], [(6, 1)], [(8, 1)], [(4, 1)], [(5, 1)], [(2, 1)], [(1, 1)], [(2, 1)], [(8, 1)], [(13, 1)], [(5, 1)], [], [(7, 1)], [(4, 1)], [(5, 1)], [(0, 1)], [(4, 1)], [(6, 1)], [], [(5, 1)], [(1, 1)], [(2, 1)], [(8, 1)], [(13, 1)], [(5, 1)], [(1, 1)], [(14, 1)], [], [(13, 1)], [(6, 1)], [(8, 1)], [(7, 1)], [(8, 1)], [(5, 1)], [], [(0, 1)], [(8, 1)], [(19, 1)], [(1, 1)], [(17, 1)], [(8, 1)], [(14, 1)], [(8, 1)], [(2, 1)], [(21, 1)], [], [(1, 1)], [(7, 1)], [(4, 1)], [], [(7, 1)], [(4, 1)], [(5, 1)], [(4, 1)], [(2, 1)], [(8, 1)], [(3, 1)], [], [(8, 1)], [(5, 1)], [(22, 1)], [(13, 1)], [(6, 1)], [(15, 1)], [(1, 1)], [(2, 1)], [(8, 1)], [(13, 1)], [(5, 1)], [], [(26, 1)], [(4, 1)], [(2, 1)], [(4, 1)], [(6, 1)], [(1, 1)], [(5, 1)], [], [(19, 1)], [(2, 1)], [(1, 1)], [(2, 1)], [(16, 1)], [(19, 1)], [], [(15, 1)], [(1, 1)], [(6, 1)], [(8, 1)], [(2, 1)], [(1, 1)], [(14, 1)], [], [(19, 1)], [(2, 1)], [(1, 1)], [(2, 1)], [(16, 1)], [(19, 1)], [], [(20, 1)], [(6, 1)], [(4, 1)], [(7, 1)], [(5, 1)], [(1, 1)], [(5, 1)], [(3, 1)], [(21, 1)], [], [(6, 1)], [(4, 1)], [(14, 1)], [(1, 1)], [(2, 1)], [(4, 1)], [(0, 1)], [], [(3, 1)], [(13, 1)], [(5, 1)], [(0, 1)], [(8, 1)], [(2, 1)], [(8, 1)], [(13, 1)], [(5, 1)], [], [(8, 1)], [(5, 1)], [(3, 1)], [(14, 1)], [(16, 1)], [(0, 1)], [(8, 1)], [(5, 1)], [(7, 1)], [], [(17, 1)], [(6, 1)], [(4, 1)], [(1, 1)], [(19, 1)], [(2, 1)], [(22, 1)], [(4, 1)], [(4, 1)], [(0, 1)], [(8, 1)], [(5, 1)], [(7, 1)], [], [(4, 1)], [(23, 1)], [(20, 1)], [(4, 1)], [(3, 1)], [(2, 1)], [(8, 1)], [(5, 1)], [(7, 1)], [], [(3, 1)], [(6, 1)], [(8, 1)], [(15, 1)], [(8, 1)], [(5, 1)], [(1, 1)], [(14, 1)], [], [(18, 1)], [(8, 1)], [(19, 1)], [(2, 1)], [(13, 1)], [(6, 1)], [(8, 1)], [(4, 1)], [(19, 1)], [], [(3, 1)], [(13, 1)], [(5, 1)], [(19, 1)], [(8, 1)], [(19, 1)], [(2, 1)], [(4, 1)], [(5, 1)], [(2, 1)], [], [(14, 1)], [(4, 1)], [(7, 1)], [(1, 1)], [(14, 1)], [], [(6, 1)], [(4, 1)], [(27, 1)], [(16, 1)], [(8, 1)], [(6, 1)], [(4, 1)], [(15, 1)], [(4, 1)], [(5, 1)], [(2, 1)], [(19, 1)], [], [(17, 1)], [(1, 1)], [(19, 1)], [(8, 1)], [(19, 1)], [], [(20, 1)], [(6, 1)], [(13, 1)], [(2, 1)], [(4, 1)], [(3, 1)], [(2, 1)], [(4, 1)], [(0, 1)], [], [(14, 1)], [(1, 1)], [(9, 1)], [], [(19, 1)], [(4, 1)], [(4, 1)], [], [(1, 1)], [(14, 1)], [(19, 1)], [(13, 1)], [], [(7, 1)], [(13, 1)], [(13, 1)], [(7, 1)], [(14, 1)], [(4, 1)], [], [(4, 1)], [(4, 1)], [(13, 1)], [], [(20, 1)], [(13, 1)], [(14, 1)], [(8, 1)], [(3, 1)], [(21, 1)], [], [(24, 1)], [(5, 1)], [(13, 1)], [(9, 1)], [], [(6, 1)], [(8, 1)], [(7, 1)], [(18, 1)], [(2, 1)], [(19, 1)], [], [(9, 1)], [(13, 1)], [(6, 1)], [(24, 1)], [(20, 1)], [(14, 1)], [(1, 1)], [(3, 1)], [(4, 1)], [], [(0, 1)], [(8, 1)], [(19, 1)], [(3, 1)], [(6, 1)], [(8, 1)], [(15, 1)], [(8, 1)], [(5, 1)], [(1, 1)], [(2, 1)], [(8, 1)], [(13, 1)], [(5, 1)], [], [(8, 1)], [(14, 1)], [(14, 1)], [(4, 1)], [(7, 1)], [(1, 1)], [(14, 1)], [], [(17, 1)], [(4, 1)], [(14, 1)], [(13, 1)], [(5, 1)], [(7, 1)], [(8, 1)], [(5, 1)], [(7, 1)], [], [(7, 1)], [(13, 1)], [(13, 1)], [(7, 1)], [(14, 1)], [(4, 1)], [], [(18, 1)], [(8, 1)], [(6, 1)], [(4, 1)], [], [(5, 1)], [(4, 1)], [(4, 1)], [(0, 1)], [], [(6, 1)], [(4, 1)], [(27, 1)], [(16, 1)], [(8, 1)], [(6, 1)], [(4, 1)], [(19, 1)], [], [(1, 1)], [(3, 1)], [(3, 1)], [(13, 1)], [(15, 1)], [(15, 1)], [(13, 1)], [(0, 1)], [(1, 1)], [(2, 1)], [(8, 1)], [(13, 1)], [(5, 1)], [], [(20, 1)], [(14, 1)], [(4, 1)], [(1, 1)], [(19, 1)], [(4, 1)], [], [(14, 1)], [(4, 1)], [(2, 1)], [], [(16, 1)], [(19, 1)], [], [(24, 1)], [(5, 1)], [(13, 1)], [(9, 1)], [], [(3, 1)], [(13, 1)], [(15, 1)], [(20, 1)], [(14, 1)], [(4, 1)], [(2, 1)], [(8, 1)], [(5, 1)], [(7, 1)], [], [(1, 1)], [(3, 1)], [(3, 1)], [(13, 1)], [(15, 1)], [(15, 1)], [(13, 1)], [(0, 1)], [(1, 1)], [(2, 1)], [(8, 1)], [(13, 1)], [(5, 1)], [(19, 1)], [], [(1, 1)], [(20, 1)], [(20, 1)], [(14, 1)], [(8, 1)], [(3, 1)], [(1, 1)], [(5, 1)], [(2, 1)], [(19, 1)], [], [(22, 1)], [(13, 1)], [(6, 1)], [(15, 1)], [], [(7, 1)], [(13, 1)], [(13, 1)], [(7, 1)], [(14, 1)], [(4, 1)], [], [(7, 1)], [(14, 1)], [(13, 1)], [(17, 1)], [(1, 1)], [(14, 1)], [], [(3, 1)], [(13, 1)], [(15, 1)], [(20, 1)], [(1, 1)], [(5, 1)], [(21, 1)], [], [(13, 1)], [(6, 1)], [(0, 1)], [(4, 1)], [(6, 1)], [], [(22, 1)], [(1, 1)], [(3, 1)], [(8, 1)], [(14, 1)], [(8, 1)], [(2, 1)], [(1, 1)], [(2, 1)], [(4, 1)], [], [(4, 1)], [(22, 1)], [(22, 1)], [(8, 1)], [(3, 1)], [(8, 1)], [(4, 1)], [(5, 1)], [(2, 1)], [], [(3, 1)], [(13, 1)], [(14, 1)], [(14, 1)], [(1, 1)], [(17, 1)], [(13, 1)], [(6, 1)], [(1, 1)], [(2, 1)], [(8, 1)], [(13, 1)], [(5, 1)], [], [(3, 1)], [(13, 1)], [(15, 1)], [(15, 1)], [(16, 1)], [(5, 1)], [(8, 1)], [(3, 1)], [(1, 1)], [(2, 1)], [(8, 1)], [(13, 1)], [(5, 1)], [], [(7, 1)], [(14, 1)], [(13, 1)], [(17, 1)], [(1, 1)], [(14, 1)], [(14, 1)], [(21, 1)], [], [(4, 1)], [(5, 1)], [(7, 1)], [(14, 1)], [(8, 1)], [(19, 1)], [(18, 1)], [], [(20, 1)], [(6, 1)], [(13, 1)], [(22, 1)], [(8, 1)], [(3, 1)], [(8, 1)], [(4, 1)], [(5, 1)], [(3, 1)], [(21, 1)], [], [(6, 1)], [(4, 1)], [(27, 1)], [(16, 1)], [(8, 1)], [(6, 1)], [(4, 1)], [(15, 1)], [(4, 1)], [(5, 1)], [(2, 1)], [], [(6, 1)], [(13, 1)], [(14, 1)], [(4, 1)], [(19, 1)], [], [(16, 1)], [(5, 1)], [(14, 1)], [(4, 1)], [(19, 1)], [(19, 1)], [], [(19, 1)], [(2, 1)], [(1, 1)], [(2, 1)], [(4, 1)], [(0, 1)], [], [(13, 1)], [(2, 1)], [(18, 1)], [(4, 1)], [(6, 1)], [(9, 1)], [(8, 1)], [(19, 1)], [(4, 1)], [], [(29, 1)], [(13, 1)], [(17, 1)], [], [(20, 1)], [(13, 1)], [(19, 1)], [(2, 1)], [(8, 1)], [(5, 1)], [(7, 1)], [], [(6, 1)], [(4, 1)], [(3, 1)], [(6, 1)], [(16, 1)], [(8, 1)], [(2, 1)], [(15, 1)], [(4, 1)], [(5, 1)], [(2, 1)], [], [(1, 1)], [(7, 1)], [(4, 1)], [(5, 1)], [(3, 1)], [(8, 1)], [(4, 1)], [(19, 1)], [], [(7, 1)], [(13, 1)], [(13, 1)], [(7, 1)], [(14, 1)], [(4, 1)], [], [(1, 1)], [(3, 1)], [(3, 1)], [(4, 1)], [(20, 1)], [(2, 1)], [], [(1, 1)], [(7, 1)], [(4, 1)], [(5, 1)], [(3, 1)], [(21, 1)], [], [(3, 1)], [(26, 1)], [(19, 1)], [], [(20, 1)], [(14, 1)], [(4, 1)], [(1, 1)], [(19, 1)], [(4, 1)], [], [(22, 1)], [(13, 1)], [(6, 1)], [(9, 1)], [(1, 1)], [(6, 1)], [(0, 1)], [], [(3, 1)], [(26, 1)], [(19, 1)], [], [(29, 1)], [(13, 1)], [(17, 1)], [(19, 1)], [], [(1, 1)], [(14, 1)], [(8, 1)], [(1, 1)], [(19, 1)], [], [(7, 1)], [(13, 1)], [(13, 1)], [(7, 1)], [(14, 1)], [(4, 1)], [], [(4, 1)], [(15, 1)], [(20, 1)], [(14, 1)], [(13, 1)], [(21, 1)], [(4, 1)], [(4, 1)], [(19, 1)], [], [(13, 1)], [(6, 1)], [(7, 1)], [(1, 1)], [(5, 1)], [(8, 1)], [(19, 1)], [(1, 1)], [(2, 1)], [(8, 1)], [(13, 1)], [(5, 1)], [], [(14, 1)], [(13, 1)], [(3, 1)], [(1, 1)], [(2, 1)], [(8, 1)], [(13, 1)], [(5, 1)], [], [(7, 1)], [(13, 1)], [(13, 1)], [(7, 1)], [(14, 1)], [(4, 1)], [], [(6, 1)], [(4, 1)], [(19, 1)], [(20, 1)], [(13, 1)], [(5, 1)], [(19, 1)], [(8, 1)], [(17, 1)], [(14, 1)], [(4, 1)], [], [(22, 1)], [(4, 1)], [(4, 1)], [(19, 1)], [], [(6, 1)], [(4, 1)], [(14, 1)], [(1, 1)], [(2, 1)], [(4, 1)], [(0, 1)], [], [(16, 1)], [(5, 1)], [(19, 1)], [(13, 1)], [(14, 1)], [(8, 1)], [(3, 1)], [(8, 1)], [(2, 1)], [(4, 1)], [(0, 1)], [], [(3, 1)], [(26, 1)], [(19, 1)], [], [(22, 1)], [(13, 1)], [(14, 1)], [(14, 1)], [(13, 1)], [(9, 1)], [], [(14, 1)], [(8, 1)], [(22, 1)], [(4, 1)], [], [(7, 1)], [(13, 1)], [(13, 1)], [(7, 1)], [(14, 1)], [(4, 1)], [], [(16, 1)], [(19, 1)], [], [(16, 1)], [(19, 1)], [], [(3, 1)], [(13, 1)], [(5, 1)], [(2, 1)], [(1, 1)], [(3, 1)], [(2, 1)], [], [(16, 1)], [(19, 1)], [], [(20, 1)], [(6, 1)], [(4, 1)], [(19, 1)], [(19, 1)], [], [(6, 1)], [(4, 1)], [(14, 1)], [(1, 1)], [(2, 1)], [(4, 1)], [(0, 1)], [], [(8, 1)], [(5, 1)], [(22, 1)], [(13, 1)], [(6, 1)], [(15, 1)], [(1, 1)], [(2, 1)], [(8, 1)], [(13, 1)], [(5, 1)], [], [(8, 1)], [(5, 1)], [(26, 1)], [(4, 1)], [(19, 1)], [(2, 1)], [(13, 1)], [(6, 1)], [], [(6, 1)], [(4, 1)], [(14, 1)], [(1, 1)], [(2, 1)], [(8, 1)], [(13, 1)], [(5, 1)], [(19, 1)], [], [(17, 1)], [(14, 1)], [(13, 1)], [(7, 1)], [], [(4, 1)], [(27, 1)], [(16, 1)], [(1, 1)], [(14, 1)], [], [(13, 1)], [(20, 1)], [(20, 1)], [(13, 1)], [(6, 1)], [(2, 1)], [(16, 1)], [(5, 1)], [(8, 1)], [(2, 1)], [(21, 1)], [], [(7, 1)], [(13, 1)], [(13, 1)], [(7, 1)], [(14, 1)], [(4, 1)], [], [(20, 1)], [(6, 1)], [(13, 1)], [(16, 1)], [(0, 1)], [], [(4, 1)], [(27, 1)], [(16, 1)], [(1, 1)], [(14, 1)], [], [(13, 1)], [(20, 1)], [(20, 1)], [(13, 1)], [(6, 1)], [(2, 1)], [(16, 1)], [(5, 1)], [(8, 1)], [(2, 1)], [(21, 1)], [], [(1, 1)], [(22, 1)], [(22, 1)], [(8, 1)], [(6, 1)], [(15, 1)], [(1, 1)], [(2, 1)], [(8, 1)], [(26, 1)], [(4, 1)], [], [(1, 1)], [(3, 1)], [(2, 1)], [(8, 1)], [(13, 1)], [(5, 1)], [], [(4, 1)], [(15, 1)], [(20, 1)], [(14, 1)], [(13, 1)], [(21, 1)], [(4, 1)], [(6, 1)], [], [(3, 1)], [(13, 1)], [(15, 1)], [(15, 1)], [(8, 1)], [(2, 1)], [(2, 1)], [(4, 1)], [(0, 1)], [], [(17, 1)], [(16, 1)], [(8, 1)], [(14, 1)], [(0, 1)], [(8, 1)], [(5, 1)], [(7, 1)], [], [(9, 1)], [(13, 1)], [(6, 1)], [(24, 1)], [(22, 1)], [(13, 1)], [(6, 1)], [(3, 1)], [(4, 1)], [], [(6, 1)], [(4, 1)], [(20, 1)], [(6, 1)], [(4, 1)], [(19, 1)], [(4, 1)], [(5, 1)], [(2, 1)], [(1, 1)], [(2, 1)], [(8, 1)], [(26, 1)], [(4, 1)], [], [(16, 1)], [(19, 1)], [(4, 1)], [(6, 1)], [(19, 1)], [], [(19, 1)], [(4, 1)], [(6, 1)], [(26, 1)], [(4, 1)], [], [(3, 1)], [(6, 1)], [(4, 1)], [(1, 1)], [(2, 1)], [(8, 1)], [(5, 1)], [(7, 1)], [], [(3, 1)], [(16, 1)], [(14, 1)], [(2, 1)], [(16, 1)], [(6, 1)], [(4, 1)], [], [(17, 1)], [(4, 1)], [(14, 1)], [(13, 1)], [(5, 1)], [(7, 1)], [(8, 1)], [(5, 1)], [(7, 1)], [], [(20, 1)], [(6, 1)], [(13, 1)], [(26, 1)], [(8, 1)], [(0, 1)], [(8, 1)], [(5, 1)], [(7, 1)], [], [(4, 1)], [(27, 1)], [(16, 1)], [(1, 1)], [(14, 1)], [], [(4, 1)], [(15, 1)], [(20, 1)], [(14, 1)], [(13, 1)], [(21, 1)], [(15, 1)], [(4, 1)], [(5, 1)], [(2, 1)], [], [(13, 1)], [(20, 1)], [(20, 1)], [(13, 1)], [(6, 1)], [(2, 1)], [(16, 1)], [(5, 1)], [(8, 1)], [(2, 1)], [(21, 1)], [], [(6, 1)], [(4, 1)], [(7, 1)], [(1, 1)], [(6, 1)], [(0, 1)], [(14, 1)], [(4, 1)], [(19, 1)], [(19, 1)], [], [(6, 1)], [(1, 1)], [(3, 1)], [(4, 1)], [], [(3, 1)], [(6, 1)], [(4, 1)], [(4, 1)], [(0, 1)], [], [(3, 1)], [(13, 1)], [(14, 1)], [(13, 1)], [(16, 1)], [(6, 1)], [], [(6, 1)], [(4, 1)], [(14, 1)], [(8, 1)], [(7, 1)], [(8, 1)], [(13, 1)], [(5, 1)], [], [(7, 1)], [(4, 1)], [(5, 1)], [(0, 1)], [(4, 1)], [(6, 1)], [], [(19, 1)], [(4, 1)], [(23, 1)], [(16, 1)], [(1, 1)], [(14, 1)], [], [(13, 1)], [(6, 1)], [(8, 1)], [(4, 1)], [(5, 1)], [(2, 1)], [(1, 1)], [(2, 1)], [(8, 1)], [(13, 1)], [(5, 1)], [], [(7, 1)], [(4, 1)], [(5, 1)], [(0, 1)], [(4, 1)], [(6, 1)], [], [(5, 1)], [(1, 1)], [(2, 1)], [(8, 1)], [(13, 1)], [(5, 1)], [(1, 1)], [(14, 1)], [], [(13, 1)], [(6, 1)], [(8, 1)], [(7, 1)], [(8, 1)], [(5, 1)], [], [(0, 1)], [(8, 1)], [(19, 1)], [(1, 1)], [(17, 1)], [(8, 1)], [(14, 1)], [(8, 1)], [(2, 1)], [(21, 1)], [], [(1, 1)], [(7, 1)], [(4, 1)], [], [(7, 1)], [(4, 1)], [(5, 1)], [(4, 1)], [(2, 1)], [(8, 1)], [(3, 1)], [], [(8, 1)], [(5, 1)], [(22, 1)], [(13, 1)], [(6, 1)], [(15, 1)], [(1, 1)], [(2, 1)], [(8, 1)], [(13, 1)], [(5, 1)], [], [(26, 1)], [(4, 1)], [(2, 1)], [(4, 1)], [(6, 1)], [(1, 1)], [(5, 1)], [], [(19, 1)], [(2, 1)], [(1, 1)], [(2, 1)], [(16, 1)], [(19, 1)], [], [(15, 1)], [(1, 1)], [(6, 1)], [(8, 1)], [(2, 1)], [(1, 1)], [(14, 1)], [], [(19, 1)], [(2, 1)], [(1, 1)], [(2, 1)], [(16, 1)], [(19, 1)], [], [(20, 1)], [(6, 1)], [(4, 1)], [(7, 1)], [(5, 1)], [(1, 1)], [(5, 1)], [(3, 1)], [(21, 1)], [], [(6, 1)], [(4, 1)], [(14, 1)], [(1, 1)], [(2, 1)], [(4, 1)], [(0, 1)], [], [(3, 1)], [(13, 1)], [(5, 1)], [(0, 1)], [(8, 1)], [(2, 1)], [(8, 1)], [(13, 1)], [(5, 1)], [], [(8, 1)], [(5, 1)], [(3, 1)], [(14, 1)], [(16, 1)], [(0, 1)], [(8, 1)], [(5, 1)], [(7, 1)], [], [(17, 1)], [(6, 1)], [(4, 1)], [(1, 1)], [(19, 1)], [(2, 1)], [(22, 1)], [(4, 1)], [(4, 1)], [(0, 1)], [(8, 1)], [(5, 1)], [(7, 1)], [], [(4, 1)], [(23, 1)], [(20, 1)], [(4, 1)], [(3, 1)], [(2, 1)], [(8, 1)], [(5, 1)], [(7, 1)], [], [(3, 1)], [(6, 1)], [(8, 1)], [(15, 1)], [(8, 1)], [(5, 1)], [(1, 1)], [(14, 1)], [], [(18, 1)], [(8, 1)], [(19, 1)], [(2, 1)], [(13, 1)], [(6, 1)], [(8, 1)], [(4, 1)], [(19, 1)], [], [(3, 1)], [(13, 1)], [(5, 1)], [(19, 1)], [(8, 1)], [(19, 1)], [(2, 1)], [(4, 1)], [(5, 1)], [(2, 1)], [], [(14, 1)], [(4, 1)], [(7, 1)], [(1, 1)], [(14, 1)], [], [(6, 1)], [(4, 1)], [(27, 1)], [(16, 1)], [(8, 1)], [(6, 1)], [(4, 1)], [(15, 1)], [(4, 1)], [(5, 1)], [(2, 1)], [(19, 1)], [], [(17, 1)], [(1, 1)], [(19, 1)], [(8, 1)], [(19, 1)], [], [(20, 1)], [(6, 1)], [(13, 1)], [(2, 1)], [(4, 1)], [(3, 1)], [(2, 1)], [(4, 1)], [(0, 1)], [], [(14, 1)], [(1, 1)], [(9, 1)], [], [(19, 1)], [(4, 1)], [(4, 1)], [], [(1, 1)], [(14, 1)], [(19, 1)], [(13, 1)], [], [(7, 1)], [(13, 1)], [(13, 1)], [(7, 1)], [(14, 1)], [(4, 1)], [], [(4, 1)], [(4, 1)], [(13, 1)], [], [(20, 1)], [(13, 1)], [(14, 1)], [(8, 1)], [(3, 1)], [(21, 1)], [], [(24, 1)], [(5, 1)], [(13, 1)], [(9, 1)], [], [(6, 1)], [(8, 1)], [(7, 1)], [(18, 1)], [(2, 1)], [(19, 1)], [], [(9, 1)], [(13, 1)], [(6, 1)], [(24, 1)], [(20, 1)], [(14, 1)], [(1, 1)], [(3, 1)], [(4, 1)], [], [(0, 1)], [(8, 1)], [(19, 1)], [(3, 1)], [(6, 1)], [(8, 1)], [(15, 1)], [(8, 1)], [(5, 1)], [(1, 1)], [(2, 1)], [(8, 1)], [(13, 1)], [(5, 1)], [], [(8, 1)], [(14, 1)], [(14, 1)], [(4, 1)], [(7, 1)], [(1, 1)], [(14, 1)], [], [(17, 1)], [(4, 1)], [(14, 1)], [(13, 1)], [(5, 1)], [(7, 1)], [(8, 1)], [(5, 1)], [(7, 1)], [], [(7, 1)], [(13, 1)], [(13, 1)], [(7, 1)], [(14, 1)], [(4, 1)], [], [(18, 1)], [(8, 1)], [(6, 1)], [(4, 1)], [], [(20, 1)], [(6, 1)], [(8, 1)], [(26, 1)], [(1, 1)], [(3, 1)], [(21, 1)], [], [(1, 1)], [(20, 1)], [(20, 1)], [(14, 1)], [(8, 1)], [(3, 1)], [(1, 1)], [(5, 1)], [(2, 1)], [], [(3, 1)], [(1, 1)], [(5, 1)], [(0, 1)], [(8, 1)], [(0, 1)], [(1, 1)], [(2, 1)], [(4, 1)], [], [(20, 1)], [(6, 1)], [(8, 1)], [(26, 1)], [(1, 1)], [(3, 1)], [(21, 1)], [], [(2, 1)], [(4, 1)], [(6, 1)], [(15, 1)], [(19, 1)], [], [(18, 1)], [(4, 1)], [(14, 1)], [(20, 1)]]\n",
      "[(0, 0.7250509815655808), (2, 0.7025081348766106), (1, 0.702508134317817)]\n",
      "[('sample.pdf', 0.7250509815655808), ('sample3.pdf', 0.7025081348766106), ('sample2.pdf', 0.702508134317817)]\n"
     ]
    }
   ],
   "source": [
    "def rank_candidates(job_description, resumes, stop_words):\n",
    "    job_keywords = analyze_job_role(job_description, stop_words)\n",
    "    lda_model, corpus_lda, dictionary = apply_lda(job_description)\n",
    "\n",
    "    ranking_scores = []\n",
    "    for resume in resumes[\"resume_text\"][:]:\n",
    "        resume_features = analyze_candidate_resume(resume, stop_words)\n",
    "        score = calculate_similarity(job_keywords, resume_features, lda_model, corpus_lda, dictionary)\n",
    "        ranking_scores.append(score)\n",
    "    ranked_candidates = sorted(enumerate(ranking_scores), key=lambda x: x[1], reverse=True)\n",
    "    print(ranked_candidates)\n",
    "    return ranked_candidates\n",
    "\n",
    "ranked_candidates = rank_candidates(JD, resume_df, stop_words)\n",
    "leaderboard_data = [(resume_df.iloc[idx]['resume_name'].split(\"/\")[-1], score) for idx, score in ranked_candidates]\n",
    "print(leaderboard_data)"
   ]
  },
  {
   "cell_type": "markdown",
   "metadata": {},
   "source": [
    "<a id=\"clearing-extracted-files\"></a>\n",
    "## 10. Clearing Extracted Files\n",
    "Finally, we clean up by removing the extracted files to maintain a tidy workspace."
   ]
  },
  {
   "cell_type": "code",
   "execution_count": 17,
   "metadata": {},
   "outputs": [
    {
     "name": "stdout",
     "output_type": "stream",
     "text": [
      "Deleted file: Data\\Extracted\\sample.pdf\n",
      "Deleted file: Data\\Extracted\\sample2.pdf\n",
      "Deleted file: Data\\Extracted\\sample3.pdf\n"
     ]
    }
   ],
   "source": [
    "def clear_directory(directory):\n",
    "    # Iterate over all the files in the directory\n",
    "    for filename in os.listdir(directory):\n",
    "        file_path = os.path.join(directory, filename)\n",
    "        try:\n",
    "            # Check if it is a file\n",
    "            if os.path.isfile(file_path):\n",
    "                # Delete the file\n",
    "                os.remove(file_path)\n",
    "                print(f\"Deleted file: {file_path}\")\n",
    "        except Exception as e:\n",
    "            print(f\"Error deleting {file_path}: {e}\")\n",
    "            \n",
    "clear_directory('Data\\Extracted')"
   ]
  }
 ],
 "metadata": {
  "kernelspec": {
   "display_name": "Python [conda env:action_detect]",
   "language": "python",
   "name": "conda-env-action_detect-py"
  }
 },
 "nbformat": 4,
 "nbformat_minor": 2
}
